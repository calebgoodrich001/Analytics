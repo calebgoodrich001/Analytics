{
  "nbformat": 4,
  "nbformat_minor": 0,
  "metadata": {
    "colab": {
      "provenance": [],
      "collapsed_sections": []
    },
    "kernelspec": {
      "name": "python3",
      "display_name": "Python 3"
    }
  },
  "cells": [
    {
      "cell_type": "markdown",
      "metadata": {
        "id": "I_GfWSOmUL9h"
      },
      "source": [
        "**Rationale** Hypothesis testing is foundational to the entire field of statistics. Without the Central Limit Theorem and hypothesis testing, we would not have modern day (social) science. In marketing, this is generally most important when doing A/B testing of ads. In this assignment, you will practice computing basic summary statistics and conducting hypothesis tests. \n",
        "\n",
        "[Datasets](https://drive.google.com/drive/folders/1kf6BHlmF32UjsHw6wh_sMJ-JWkV091XD?usp=sharing) required:\n",
        "1. [FB ad campaign data](https://drive.google.com/file/d/1XqPgu_rFZZ5eHCoFS7drFsmqd7U81vj_/view?usp=sharing).\n",
        "1. [Starbucks Promos](https://drive.google.com/file/d/1aUJUdGm-RdHaJCJvS1kay9fRdNTq22xb/view?usp=sharing)"
      ]
    },
    {
      "cell_type": "markdown",
      "metadata": {
        "id": "DdmKkAgxwLZB"
      },
      "source": [
        "# 1. (15 points) FB Ad campaigns\n",
        "\n",
        "1. Use a groupby operation create a dataframe called `sumstats` consisting of the total impressions and clicks for each `xyz_campaign_id`.\n",
        "1. Using `sumstats`, create a new column called `ctr` that represents the [click through rate](https://support.google.com/google-ads/answer/2615875?hl=en) for each campaign. Which campaign had the highest CTR?\n",
        "1. Create a column for `sd` for standard deviation of the click through rate. \n",
        "\n",
        "Hint: Recall from the notes that the standard deviation of a binomial distribution with $Pr(Success) = p$ is $SD(p) = \\sqrt{p(1-p)}$. So if the probability of a binary outcome (such as clicking on an ad) is observed to be .3, the standard deviation is $\\sqrt{.3(.7)}=\\sqrt{.21}$."
      ]
    },
    {
      "cell_type": "code",
      "metadata": {
        "id": "5zHCASKUwPwY",
        "colab": {
          "base_uri": "https://localhost:8080/"
        },
        "outputId": "8a36952e-14de-45cc-99c2-587fd63155f7"
      },
      "source": [
        "# imports and mount google drive\n",
        "import os, pandas as pd, numpy as np\n",
        "from scipy import stats\n",
        "\n",
        "from google.colab import drive\n",
        "drive.mount('drive')"
      ],
      "execution_count": null,
      "outputs": [
        {
          "output_type": "stream",
          "name": "stdout",
          "text": [
            "Mounted at drive\n"
          ]
        }
      ]
    },
    {
      "cell_type": "code",
      "metadata": {
        "id": "gV3R6R-6v3tG",
        "colab": {
          "base_uri": "https://localhost:8080/"
        },
        "outputId": "ca914f67-0eb3-4590-bc4c-37f89d300726"
      },
      "source": [
        "# set the path to the datasets for A4\n",
        "\n",
        "fpath = 'drive/MyDrive/Analytics/Datasets/A4datasets/'\n",
        "os.listdir(fpath)"
      ],
      "execution_count": null,
      "outputs": [
        {
          "output_type": "execute_result",
          "data": {
            "text/plain": [
              "['facebook_ads.csv', 'starbucks_promos.csv']"
            ]
          },
          "metadata": {},
          "execution_count": 2
        }
      ]
    },
    {
      "cell_type": "code",
      "metadata": {
        "id": "kgp10eMov30B"
      },
      "source": [
        "# read in the facebook_ads.csv file as the dataframe variable named fb\n",
        "\n",
        "fb = pd.read_csv(fpath+ 'facebook_ads.csv')"
      ],
      "execution_count": null,
      "outputs": []
    },
    {
      "cell_type": "code",
      "metadata": {
        "id": "Lcc5ZfCYv36W",
        "colab": {
          "base_uri": "https://localhost:8080/",
          "height": 206
        },
        "outputId": "9662c6c8-6765-41ae-ffb6-f1f62e2eb7d5"
      },
      "source": [
        "# Take a look at the first 5 rows\n",
        "# Observe that each row represents 1 ad from 1 campaign and a target demographic group (age, gender, interest)\n",
        "\n",
        "fb.head(5)"
      ],
      "execution_count": null,
      "outputs": [
        {
          "output_type": "execute_result",
          "data": {
            "text/plain": [
              "    ad_id  xyz_campaign_id  fb_campaign_id    age gender  interest  \\\n",
              "0  708746              916          103916  30-34      M        15   \n",
              "1  708749              916          103917  30-34      M        16   \n",
              "2  708771              916          103920  30-34      M        20   \n",
              "3  708815              916          103928  30-34      M        28   \n",
              "4  708818              916          103928  30-34      M        28   \n",
              "\n",
              "   Impressions  Clicks  Spent  Total_Conversion  Approved_Conversion  \n",
              "0         7350       1   1.43                 2                    1  \n",
              "1        17861       2   1.82                 2                    0  \n",
              "2          693       0   0.00                 1                    0  \n",
              "3         4259       1   1.25                 1                    0  \n",
              "4         4133       1   1.29                 1                    1  "
            ],
            "text/html": [
              "\n",
              "  <div id=\"df-1530f7e7-cf6e-4f66-9209-146a60201926\">\n",
              "    <div class=\"colab-df-container\">\n",
              "      <div>\n",
              "<style scoped>\n",
              "    .dataframe tbody tr th:only-of-type {\n",
              "        vertical-align: middle;\n",
              "    }\n",
              "\n",
              "    .dataframe tbody tr th {\n",
              "        vertical-align: top;\n",
              "    }\n",
              "\n",
              "    .dataframe thead th {\n",
              "        text-align: right;\n",
              "    }\n",
              "</style>\n",
              "<table border=\"1\" class=\"dataframe\">\n",
              "  <thead>\n",
              "    <tr style=\"text-align: right;\">\n",
              "      <th></th>\n",
              "      <th>ad_id</th>\n",
              "      <th>xyz_campaign_id</th>\n",
              "      <th>fb_campaign_id</th>\n",
              "      <th>age</th>\n",
              "      <th>gender</th>\n",
              "      <th>interest</th>\n",
              "      <th>Impressions</th>\n",
              "      <th>Clicks</th>\n",
              "      <th>Spent</th>\n",
              "      <th>Total_Conversion</th>\n",
              "      <th>Approved_Conversion</th>\n",
              "    </tr>\n",
              "  </thead>\n",
              "  <tbody>\n",
              "    <tr>\n",
              "      <th>0</th>\n",
              "      <td>708746</td>\n",
              "      <td>916</td>\n",
              "      <td>103916</td>\n",
              "      <td>30-34</td>\n",
              "      <td>M</td>\n",
              "      <td>15</td>\n",
              "      <td>7350</td>\n",
              "      <td>1</td>\n",
              "      <td>1.43</td>\n",
              "      <td>2</td>\n",
              "      <td>1</td>\n",
              "    </tr>\n",
              "    <tr>\n",
              "      <th>1</th>\n",
              "      <td>708749</td>\n",
              "      <td>916</td>\n",
              "      <td>103917</td>\n",
              "      <td>30-34</td>\n",
              "      <td>M</td>\n",
              "      <td>16</td>\n",
              "      <td>17861</td>\n",
              "      <td>2</td>\n",
              "      <td>1.82</td>\n",
              "      <td>2</td>\n",
              "      <td>0</td>\n",
              "    </tr>\n",
              "    <tr>\n",
              "      <th>2</th>\n",
              "      <td>708771</td>\n",
              "      <td>916</td>\n",
              "      <td>103920</td>\n",
              "      <td>30-34</td>\n",
              "      <td>M</td>\n",
              "      <td>20</td>\n",
              "      <td>693</td>\n",
              "      <td>0</td>\n",
              "      <td>0.00</td>\n",
              "      <td>1</td>\n",
              "      <td>0</td>\n",
              "    </tr>\n",
              "    <tr>\n",
              "      <th>3</th>\n",
              "      <td>708815</td>\n",
              "      <td>916</td>\n",
              "      <td>103928</td>\n",
              "      <td>30-34</td>\n",
              "      <td>M</td>\n",
              "      <td>28</td>\n",
              "      <td>4259</td>\n",
              "      <td>1</td>\n",
              "      <td>1.25</td>\n",
              "      <td>1</td>\n",
              "      <td>0</td>\n",
              "    </tr>\n",
              "    <tr>\n",
              "      <th>4</th>\n",
              "      <td>708818</td>\n",
              "      <td>916</td>\n",
              "      <td>103928</td>\n",
              "      <td>30-34</td>\n",
              "      <td>M</td>\n",
              "      <td>28</td>\n",
              "      <td>4133</td>\n",
              "      <td>1</td>\n",
              "      <td>1.29</td>\n",
              "      <td>1</td>\n",
              "      <td>1</td>\n",
              "    </tr>\n",
              "  </tbody>\n",
              "</table>\n",
              "</div>\n",
              "      <button class=\"colab-df-convert\" onclick=\"convertToInteractive('df-1530f7e7-cf6e-4f66-9209-146a60201926')\"\n",
              "              title=\"Convert this dataframe to an interactive table.\"\n",
              "              style=\"display:none;\">\n",
              "        \n",
              "  <svg xmlns=\"http://www.w3.org/2000/svg\" height=\"24px\"viewBox=\"0 0 24 24\"\n",
              "       width=\"24px\">\n",
              "    <path d=\"M0 0h24v24H0V0z\" fill=\"none\"/>\n",
              "    <path d=\"M18.56 5.44l.94 2.06.94-2.06 2.06-.94-2.06-.94-.94-2.06-.94 2.06-2.06.94zm-11 1L8.5 8.5l.94-2.06 2.06-.94-2.06-.94L8.5 2.5l-.94 2.06-2.06.94zm10 10l.94 2.06.94-2.06 2.06-.94-2.06-.94-.94-2.06-.94 2.06-2.06.94z\"/><path d=\"M17.41 7.96l-1.37-1.37c-.4-.4-.92-.59-1.43-.59-.52 0-1.04.2-1.43.59L10.3 9.45l-7.72 7.72c-.78.78-.78 2.05 0 2.83L4 21.41c.39.39.9.59 1.41.59.51 0 1.02-.2 1.41-.59l7.78-7.78 2.81-2.81c.8-.78.8-2.07 0-2.86zM5.41 20L4 18.59l7.72-7.72 1.47 1.35L5.41 20z\"/>\n",
              "  </svg>\n",
              "      </button>\n",
              "      \n",
              "  <style>\n",
              "    .colab-df-container {\n",
              "      display:flex;\n",
              "      flex-wrap:wrap;\n",
              "      gap: 12px;\n",
              "    }\n",
              "\n",
              "    .colab-df-convert {\n",
              "      background-color: #E8F0FE;\n",
              "      border: none;\n",
              "      border-radius: 50%;\n",
              "      cursor: pointer;\n",
              "      display: none;\n",
              "      fill: #1967D2;\n",
              "      height: 32px;\n",
              "      padding: 0 0 0 0;\n",
              "      width: 32px;\n",
              "    }\n",
              "\n",
              "    .colab-df-convert:hover {\n",
              "      background-color: #E2EBFA;\n",
              "      box-shadow: 0px 1px 2px rgba(60, 64, 67, 0.3), 0px 1px 3px 1px rgba(60, 64, 67, 0.15);\n",
              "      fill: #174EA6;\n",
              "    }\n",
              "\n",
              "    [theme=dark] .colab-df-convert {\n",
              "      background-color: #3B4455;\n",
              "      fill: #D2E3FC;\n",
              "    }\n",
              "\n",
              "    [theme=dark] .colab-df-convert:hover {\n",
              "      background-color: #434B5C;\n",
              "      box-shadow: 0px 1px 3px 1px rgba(0, 0, 0, 0.15);\n",
              "      filter: drop-shadow(0px 1px 2px rgba(0, 0, 0, 0.3));\n",
              "      fill: #FFFFFF;\n",
              "    }\n",
              "  </style>\n",
              "\n",
              "      <script>\n",
              "        const buttonEl =\n",
              "          document.querySelector('#df-1530f7e7-cf6e-4f66-9209-146a60201926 button.colab-df-convert');\n",
              "        buttonEl.style.display =\n",
              "          google.colab.kernel.accessAllowed ? 'block' : 'none';\n",
              "\n",
              "        async function convertToInteractive(key) {\n",
              "          const element = document.querySelector('#df-1530f7e7-cf6e-4f66-9209-146a60201926');\n",
              "          const dataTable =\n",
              "            await google.colab.kernel.invokeFunction('convertToInteractive',\n",
              "                                                     [key], {});\n",
              "          if (!dataTable) return;\n",
              "\n",
              "          const docLinkHtml = 'Like what you see? Visit the ' +\n",
              "            '<a target=\"_blank\" href=https://colab.research.google.com/notebooks/data_table.ipynb>data table notebook</a>'\n",
              "            + ' to learn more about interactive tables.';\n",
              "          element.innerHTML = '';\n",
              "          dataTable['output_type'] = 'display_data';\n",
              "          await google.colab.output.renderOutput(dataTable, element);\n",
              "          const docLink = document.createElement('div');\n",
              "          docLink.innerHTML = docLinkHtml;\n",
              "          element.appendChild(docLink);\n",
              "        }\n",
              "      </script>\n",
              "    </div>\n",
              "  </div>\n",
              "  "
            ]
          },
          "metadata": {},
          "execution_count": 32
        }
      ]
    },
    {
      "cell_type": "code",
      "metadata": {
        "id": "ed4vShBTwO8e"
      },
      "source": [
        "# use a groupby to create new dataframe, sumstats that tabulates the total clicks and impressions for each campaign.\n",
        "# Generic groupby syntax: sumstats = df.groupby('groupbyvariable')[['summary_variable1', 'summary_variable2']].summaryfunction().reset_index()\n",
        "# use the correct dataframe name, variables (i.e. column names) and summaryfunction\n",
        "# Hint: Analyze the different campaigns in 'xyz_campaign_id'\n",
        "\n",
        "sumstats = fb.groupby('xyz_campaign_id')[['Impressions','Clicks']].sum().reset_index()"
      ],
      "execution_count": null,
      "outputs": []
    },
    {
      "cell_type": "code",
      "metadata": {
        "id": "-fRgZWiJwO_E"
      },
      "source": [
        "# create a new column in sumstats called 'ctr' (short for click through rate)\n",
        "# recall that ctr = clicks / impressions\n",
        "sumstats['ctr'] = sumstats['Clicks']/sumstats['Impressions']\n"
      ],
      "execution_count": null,
      "outputs": []
    },
    {
      "cell_type": "code",
      "metadata": {
        "id": "whB7lmTmwPBy",
        "colab": {
          "base_uri": "https://localhost:8080/",
          "height": 143
        },
        "outputId": "e8c9f7a7-3c13-49cd-e702-69b0b030080b"
      },
      "source": [
        "# take a look at the whole sumstats dataframe\n",
        "sumstats\n"
      ],
      "execution_count": null,
      "outputs": [
        {
          "output_type": "execute_result",
          "data": {
            "text/plain": [
              "   xyz_campaign_id  Impressions  Clicks       ctr\n",
              "0              916       482925     113  0.000234\n",
              "1              936      8128187    1984  0.000244\n",
              "2             1178    204823716   36068  0.000176"
            ],
            "text/html": [
              "\n",
              "  <div id=\"df-23844382-f4f8-4789-9c35-dfda0dadf70a\">\n",
              "    <div class=\"colab-df-container\">\n",
              "      <div>\n",
              "<style scoped>\n",
              "    .dataframe tbody tr th:only-of-type {\n",
              "        vertical-align: middle;\n",
              "    }\n",
              "\n",
              "    .dataframe tbody tr th {\n",
              "        vertical-align: top;\n",
              "    }\n",
              "\n",
              "    .dataframe thead th {\n",
              "        text-align: right;\n",
              "    }\n",
              "</style>\n",
              "<table border=\"1\" class=\"dataframe\">\n",
              "  <thead>\n",
              "    <tr style=\"text-align: right;\">\n",
              "      <th></th>\n",
              "      <th>xyz_campaign_id</th>\n",
              "      <th>Impressions</th>\n",
              "      <th>Clicks</th>\n",
              "      <th>ctr</th>\n",
              "    </tr>\n",
              "  </thead>\n",
              "  <tbody>\n",
              "    <tr>\n",
              "      <th>0</th>\n",
              "      <td>916</td>\n",
              "      <td>482925</td>\n",
              "      <td>113</td>\n",
              "      <td>0.000234</td>\n",
              "    </tr>\n",
              "    <tr>\n",
              "      <th>1</th>\n",
              "      <td>936</td>\n",
              "      <td>8128187</td>\n",
              "      <td>1984</td>\n",
              "      <td>0.000244</td>\n",
              "    </tr>\n",
              "    <tr>\n",
              "      <th>2</th>\n",
              "      <td>1178</td>\n",
              "      <td>204823716</td>\n",
              "      <td>36068</td>\n",
              "      <td>0.000176</td>\n",
              "    </tr>\n",
              "  </tbody>\n",
              "</table>\n",
              "</div>\n",
              "      <button class=\"colab-df-convert\" onclick=\"convertToInteractive('df-23844382-f4f8-4789-9c35-dfda0dadf70a')\"\n",
              "              title=\"Convert this dataframe to an interactive table.\"\n",
              "              style=\"display:none;\">\n",
              "        \n",
              "  <svg xmlns=\"http://www.w3.org/2000/svg\" height=\"24px\"viewBox=\"0 0 24 24\"\n",
              "       width=\"24px\">\n",
              "    <path d=\"M0 0h24v24H0V0z\" fill=\"none\"/>\n",
              "    <path d=\"M18.56 5.44l.94 2.06.94-2.06 2.06-.94-2.06-.94-.94-2.06-.94 2.06-2.06.94zm-11 1L8.5 8.5l.94-2.06 2.06-.94-2.06-.94L8.5 2.5l-.94 2.06-2.06.94zm10 10l.94 2.06.94-2.06 2.06-.94-2.06-.94-.94-2.06-.94 2.06-2.06.94z\"/><path d=\"M17.41 7.96l-1.37-1.37c-.4-.4-.92-.59-1.43-.59-.52 0-1.04.2-1.43.59L10.3 9.45l-7.72 7.72c-.78.78-.78 2.05 0 2.83L4 21.41c.39.39.9.59 1.41.59.51 0 1.02-.2 1.41-.59l7.78-7.78 2.81-2.81c.8-.78.8-2.07 0-2.86zM5.41 20L4 18.59l7.72-7.72 1.47 1.35L5.41 20z\"/>\n",
              "  </svg>\n",
              "      </button>\n",
              "      \n",
              "  <style>\n",
              "    .colab-df-container {\n",
              "      display:flex;\n",
              "      flex-wrap:wrap;\n",
              "      gap: 12px;\n",
              "    }\n",
              "\n",
              "    .colab-df-convert {\n",
              "      background-color: #E8F0FE;\n",
              "      border: none;\n",
              "      border-radius: 50%;\n",
              "      cursor: pointer;\n",
              "      display: none;\n",
              "      fill: #1967D2;\n",
              "      height: 32px;\n",
              "      padding: 0 0 0 0;\n",
              "      width: 32px;\n",
              "    }\n",
              "\n",
              "    .colab-df-convert:hover {\n",
              "      background-color: #E2EBFA;\n",
              "      box-shadow: 0px 1px 2px rgba(60, 64, 67, 0.3), 0px 1px 3px 1px rgba(60, 64, 67, 0.15);\n",
              "      fill: #174EA6;\n",
              "    }\n",
              "\n",
              "    [theme=dark] .colab-df-convert {\n",
              "      background-color: #3B4455;\n",
              "      fill: #D2E3FC;\n",
              "    }\n",
              "\n",
              "    [theme=dark] .colab-df-convert:hover {\n",
              "      background-color: #434B5C;\n",
              "      box-shadow: 0px 1px 3px 1px rgba(0, 0, 0, 0.15);\n",
              "      filter: drop-shadow(0px 1px 2px rgba(0, 0, 0, 0.3));\n",
              "      fill: #FFFFFF;\n",
              "    }\n",
              "  </style>\n",
              "\n",
              "      <script>\n",
              "        const buttonEl =\n",
              "          document.querySelector('#df-23844382-f4f8-4789-9c35-dfda0dadf70a button.colab-df-convert');\n",
              "        buttonEl.style.display =\n",
              "          google.colab.kernel.accessAllowed ? 'block' : 'none';\n",
              "\n",
              "        async function convertToInteractive(key) {\n",
              "          const element = document.querySelector('#df-23844382-f4f8-4789-9c35-dfda0dadf70a');\n",
              "          const dataTable =\n",
              "            await google.colab.kernel.invokeFunction('convertToInteractive',\n",
              "                                                     [key], {});\n",
              "          if (!dataTable) return;\n",
              "\n",
              "          const docLinkHtml = 'Like what you see? Visit the ' +\n",
              "            '<a target=\"_blank\" href=https://colab.research.google.com/notebooks/data_table.ipynb>data table notebook</a>'\n",
              "            + ' to learn more about interactive tables.';\n",
              "          element.innerHTML = '';\n",
              "          dataTable['output_type'] = 'display_data';\n",
              "          await google.colab.output.renderOutput(dataTable, element);\n",
              "          const docLink = document.createElement('div');\n",
              "          docLink.innerHTML = docLinkHtml;\n",
              "          element.appendChild(docLink);\n",
              "        }\n",
              "      </script>\n",
              "    </div>\n",
              "  </div>\n",
              "  "
            ]
          },
          "metadata": {},
          "execution_count": 7
        }
      ]
    },
    {
      "cell_type": "code",
      "metadata": {
        "id": "MJquIHeo7oLg"
      },
      "source": [
        "# create a new column ctr_sd for the std. dev of the ctr (See hint above)\n",
        "# pay attention to PEMDAS, esp. that you want to take the sqrt after computing p*(1-p)\n",
        "# np.sqrt(x) returns the sqrt of some number x\n",
        "\n",
        "sumstats['ctr_sd'] = np.sqrt((sumstats['ctr']*(1-sumstats['ctr'])))\n"
      ],
      "execution_count": null,
      "outputs": []
    },
    {
      "cell_type": "code",
      "metadata": {
        "id": "F1-_ImT28dJe",
        "colab": {
          "base_uri": "https://localhost:8080/",
          "height": 143
        },
        "outputId": "da566b7d-f4bf-4e09-9799-b38ade0b8ee8"
      },
      "source": [
        "# take another look at the whole sumstats dataframe\n",
        "# compare the ctr_std to calculating it by hand, make sure you did this correctly.\n",
        "sumstats\n"
      ],
      "execution_count": null,
      "outputs": [
        {
          "output_type": "execute_result",
          "data": {
            "text/plain": [
              "   xyz_campaign_id  Impressions  Clicks       ctr    ctr_sd\n",
              "0              916       482925     113  0.000234  0.015295\n",
              "1              936      8128187    1984  0.000244  0.015621\n",
              "2             1178    204823716   36068  0.000176  0.013269"
            ],
            "text/html": [
              "\n",
              "  <div id=\"df-0ca4959e-3b28-4032-a834-1117236bac1c\">\n",
              "    <div class=\"colab-df-container\">\n",
              "      <div>\n",
              "<style scoped>\n",
              "    .dataframe tbody tr th:only-of-type {\n",
              "        vertical-align: middle;\n",
              "    }\n",
              "\n",
              "    .dataframe tbody tr th {\n",
              "        vertical-align: top;\n",
              "    }\n",
              "\n",
              "    .dataframe thead th {\n",
              "        text-align: right;\n",
              "    }\n",
              "</style>\n",
              "<table border=\"1\" class=\"dataframe\">\n",
              "  <thead>\n",
              "    <tr style=\"text-align: right;\">\n",
              "      <th></th>\n",
              "      <th>xyz_campaign_id</th>\n",
              "      <th>Impressions</th>\n",
              "      <th>Clicks</th>\n",
              "      <th>ctr</th>\n",
              "      <th>ctr_sd</th>\n",
              "    </tr>\n",
              "  </thead>\n",
              "  <tbody>\n",
              "    <tr>\n",
              "      <th>0</th>\n",
              "      <td>916</td>\n",
              "      <td>482925</td>\n",
              "      <td>113</td>\n",
              "      <td>0.000234</td>\n",
              "      <td>0.015295</td>\n",
              "    </tr>\n",
              "    <tr>\n",
              "      <th>1</th>\n",
              "      <td>936</td>\n",
              "      <td>8128187</td>\n",
              "      <td>1984</td>\n",
              "      <td>0.000244</td>\n",
              "      <td>0.015621</td>\n",
              "    </tr>\n",
              "    <tr>\n",
              "      <th>2</th>\n",
              "      <td>1178</td>\n",
              "      <td>204823716</td>\n",
              "      <td>36068</td>\n",
              "      <td>0.000176</td>\n",
              "      <td>0.013269</td>\n",
              "    </tr>\n",
              "  </tbody>\n",
              "</table>\n",
              "</div>\n",
              "      <button class=\"colab-df-convert\" onclick=\"convertToInteractive('df-0ca4959e-3b28-4032-a834-1117236bac1c')\"\n",
              "              title=\"Convert this dataframe to an interactive table.\"\n",
              "              style=\"display:none;\">\n",
              "        \n",
              "  <svg xmlns=\"http://www.w3.org/2000/svg\" height=\"24px\"viewBox=\"0 0 24 24\"\n",
              "       width=\"24px\">\n",
              "    <path d=\"M0 0h24v24H0V0z\" fill=\"none\"/>\n",
              "    <path d=\"M18.56 5.44l.94 2.06.94-2.06 2.06-.94-2.06-.94-.94-2.06-.94 2.06-2.06.94zm-11 1L8.5 8.5l.94-2.06 2.06-.94-2.06-.94L8.5 2.5l-.94 2.06-2.06.94zm10 10l.94 2.06.94-2.06 2.06-.94-2.06-.94-.94-2.06-.94 2.06-2.06.94z\"/><path d=\"M17.41 7.96l-1.37-1.37c-.4-.4-.92-.59-1.43-.59-.52 0-1.04.2-1.43.59L10.3 9.45l-7.72 7.72c-.78.78-.78 2.05 0 2.83L4 21.41c.39.39.9.59 1.41.59.51 0 1.02-.2 1.41-.59l7.78-7.78 2.81-2.81c.8-.78.8-2.07 0-2.86zM5.41 20L4 18.59l7.72-7.72 1.47 1.35L5.41 20z\"/>\n",
              "  </svg>\n",
              "      </button>\n",
              "      \n",
              "  <style>\n",
              "    .colab-df-container {\n",
              "      display:flex;\n",
              "      flex-wrap:wrap;\n",
              "      gap: 12px;\n",
              "    }\n",
              "\n",
              "    .colab-df-convert {\n",
              "      background-color: #E8F0FE;\n",
              "      border: none;\n",
              "      border-radius: 50%;\n",
              "      cursor: pointer;\n",
              "      display: none;\n",
              "      fill: #1967D2;\n",
              "      height: 32px;\n",
              "      padding: 0 0 0 0;\n",
              "      width: 32px;\n",
              "    }\n",
              "\n",
              "    .colab-df-convert:hover {\n",
              "      background-color: #E2EBFA;\n",
              "      box-shadow: 0px 1px 2px rgba(60, 64, 67, 0.3), 0px 1px 3px 1px rgba(60, 64, 67, 0.15);\n",
              "      fill: #174EA6;\n",
              "    }\n",
              "\n",
              "    [theme=dark] .colab-df-convert {\n",
              "      background-color: #3B4455;\n",
              "      fill: #D2E3FC;\n",
              "    }\n",
              "\n",
              "    [theme=dark] .colab-df-convert:hover {\n",
              "      background-color: #434B5C;\n",
              "      box-shadow: 0px 1px 3px 1px rgba(0, 0, 0, 0.15);\n",
              "      filter: drop-shadow(0px 1px 2px rgba(0, 0, 0, 0.3));\n",
              "      fill: #FFFFFF;\n",
              "    }\n",
              "  </style>\n",
              "\n",
              "      <script>\n",
              "        const buttonEl =\n",
              "          document.querySelector('#df-0ca4959e-3b28-4032-a834-1117236bac1c button.colab-df-convert');\n",
              "        buttonEl.style.display =\n",
              "          google.colab.kernel.accessAllowed ? 'block' : 'none';\n",
              "\n",
              "        async function convertToInteractive(key) {\n",
              "          const element = document.querySelector('#df-0ca4959e-3b28-4032-a834-1117236bac1c');\n",
              "          const dataTable =\n",
              "            await google.colab.kernel.invokeFunction('convertToInteractive',\n",
              "                                                     [key], {});\n",
              "          if (!dataTable) return;\n",
              "\n",
              "          const docLinkHtml = 'Like what you see? Visit the ' +\n",
              "            '<a target=\"_blank\" href=https://colab.research.google.com/notebooks/data_table.ipynb>data table notebook</a>'\n",
              "            + ' to learn more about interactive tables.';\n",
              "          element.innerHTML = '';\n",
              "          dataTable['output_type'] = 'display_data';\n",
              "          await google.colab.output.renderOutput(dataTable, element);\n",
              "          const docLink = document.createElement('div');\n",
              "          docLink.innerHTML = docLinkHtml;\n",
              "          element.appendChild(docLink);\n",
              "        }\n",
              "      </script>\n",
              "    </div>\n",
              "  </div>\n",
              "  "
            ]
          },
          "metadata": {},
          "execution_count": 9
        }
      ]
    },
    {
      "cell_type": "markdown",
      "metadata": {
        "id": "8HRyqz1Exl4Y"
      },
      "source": [
        "## Answer (edit this cell)\n",
        "The campaign with the highest CTR is: **936**\n"
      ]
    },
    {
      "cell_type": "markdown",
      "metadata": {
        "id": "cEYwuOWowQaF"
      },
      "source": [
        "# 2. (15 points) Hypothesis testing and confidence intervals\n",
        "\n",
        "1. Compute the 95% confidence interval for the CTR for each campaign. Compare the confidence intervals of campaign 916 and 936. What can you conclude about the relative perfrmance of the 2 ads in the population (e.g. are they very different, similar, etc.)? How about 916 vs. 1178?\n",
        "1. Was campaign 936 statistically different compared to campaign 916? How about 936 vs. 1178? Use the `ttest_2sample` function from the notes. Remember, you must define it in your Colab session in order to use it (execute the cell w/ the function).\n",
        "\n",
        "Given these statistical tests what would you recommend in terms of allocation of the ad budget? "
      ]
    },
    {
      "cell_type": "code",
      "metadata": {
        "id": "DJdbML1BCQ7X",
        "colab": {
          "base_uri": "https://localhost:8080/"
        },
        "outputId": "835893f5-25e3-40d0-b16a-fda0e7b6f04c"
      },
      "source": [
        "# use stats.norm.ppf([.025, .975], mean, std error)\n",
        "# where mean is sample mean and std error is std dev / sqrt(obs) (from Central Limit Theorem)\n",
        "# confidence interval for ad 916\n",
        "\n",
        "stats.norm.ppf([.025,.975], sumstats.loc[sumstats['xyz_campaign_id'] == 916, 'ctr'], sumstats.loc[sumstats.xyz_campaign_id == 916, 'ctr_sd']/ np.sqrt(sumstats.loc[sumstats.xyz_campaign_id == 916, 'Impressions']))"
      ],
      "execution_count": null,
      "outputs": [
        {
          "output_type": "execute_result",
          "data": {
            "text/plain": [
              "array([0.00019085, 0.00027713])"
            ]
          },
          "metadata": {},
          "execution_count": 10
        }
      ]
    },
    {
      "cell_type": "code",
      "metadata": {
        "id": "5iw0uMWEyzX1",
        "colab": {
          "base_uri": "https://localhost:8080/"
        },
        "outputId": "b17db6d9-19cb-4a17-e2ef-21531159cd39"
      },
      "source": [
        "# confidence interval for ad 936\n",
        "\n",
        "stats.norm.ppf([.025,.975], sumstats.loc[sumstats.xyz_campaign_id == 936, 'ctr'], sumstats.loc[sumstats.xyz_campaign_id == 936, 'ctr_sd']/ np.sqrt(sumstats.loc[sumstats.xyz_campaign_id == 936, 'Impressions']))"
      ],
      "execution_count": null,
      "outputs": [
        {
          "output_type": "execute_result",
          "data": {
            "text/plain": [
              "array([0.00023335, 0.00025483])"
            ]
          },
          "metadata": {},
          "execution_count": 11
        }
      ]
    },
    {
      "cell_type": "code",
      "metadata": {
        "id": "z2rG1Vd2y3GH",
        "colab": {
          "base_uri": "https://localhost:8080/"
        },
        "outputId": "aac6848e-2211-4c3e-bb5b-303db6906c9a"
      },
      "source": [
        "# confidence interval for ad 1178\n",
        "\n",
        "stats.norm.ppf([.025,.975], sumstats.loc[sumstats.xyz_campaign_id == 1178, 'ctr'], sumstats.loc[sumstats.xyz_campaign_id == 1178, 'ctr_sd']/ np.sqrt(sumstats.loc[sumstats.xyz_campaign_id == 1178, 'Impressions']))"
      ],
      "execution_count": null,
      "outputs": [
        {
          "output_type": "execute_result",
          "data": {
            "text/plain": [
              "array([0.00017428, 0.00017791])"
            ]
          },
          "metadata": {},
          "execution_count": 12
        }
      ]
    },
    {
      "cell_type": "markdown",
      "metadata": {
        "id": "a3WMsEHX9VOa"
      },
      "source": [
        "**Edit this cell**\n",
        "\n",
        "1. The 916 confidence interval is much wider then the 936 interval. Both of the bounds of the 916 interval are outside the bounds of the 916 interval.\n",
        "1. The confidence interval for 1178 is much much smaller then the 916 interval. The lower bound for the 916 interval is higher then the upper bound for the 1178 interval. "
      ]
    },
    {
      "cell_type": "code",
      "metadata": {
        "id": "u_jk2UHrAGoX"
      },
      "source": [
        "# Use this custom funciton\n",
        "\n",
        "def ttest_2sample(m1,sd1,N1,m2,sd2,N2, twotail = True, equalvar = False):\n",
        "    \"\"\"\n",
        "    This function requires you to supply:\n",
        "    m1: mean of sample 1\n",
        "    sd1: std. dev of sample 1\n",
        "    N1: number of obs of sample 1\n",
        "    m2: mean of sample 2\n",
        "    sd2: std dev of sample 2\n",
        "    N2: number of obs of sample 2\n",
        "\n",
        "    Optional inputs:\n",
        "    twotail = True (default) / False. If False, then 1 tail\n",
        "    equalvar = True / False (default). If True, assumes equal population variance.\n",
        "    \"\"\"\n",
        "\n",
        "    # The difference between equal and unequal variance is only in how to compute\n",
        "    # the test statistic and degree of freedom.\n",
        "    if equalvar:\n",
        "        spsquare = ((N1-1)*sd1**2+(N2-1)*sd2**2)/(N1+N2-2) \n",
        "        T = (m1-m2)/np.sqrt(spsquare*(1/N1+1/N2))\n",
        "        nu = N1+N2-2\n",
        "    else:\n",
        "        nu = (sd1**2/N1+sd2**2/N2)**2/((sd1**2/N1)**2/(N1-1)+(sd2**2/N2)**2/(N2-1)) # new degree of freedom\n",
        "        T = (m1-m2)/(np.sqrt(sd1**2/N1+sd2**2/N2))\n",
        "    \n",
        "    # If the first mean is bigger, we need to do 1- cdf\n",
        "    # Otherwise just compute cdf\n",
        "    if m1>m2:\n",
        "        pval = 1-stats.t.cdf(T, df = nu)\n",
        "    else:\n",
        "        pval = stats.t.cdf(T, df = nu)\n",
        "\n",
        "    # return p values\n",
        "    # If 2 tail, we must multiply by 2\n",
        "    # otherwise we just return the computed pval\n",
        "    if twotail == True:\n",
        "        return pval*2\n",
        "    else:\n",
        "        return pval"
      ],
      "execution_count": null,
      "outputs": []
    },
    {
      "cell_type": "code",
      "metadata": {
        "id": "IInYMY2dBHLv",
        "colab": {
          "base_uri": "https://localhost:8080/"
        },
        "outputId": "faadce34-262d-46b3-c6e8-61ae0df18da9"
      },
      "source": [
        "# for each campaign grab the Pr(Success) = p which is ctr, std dev, and observations.\n",
        "\n",
        "p916 = float(sumstats.loc[sumstats.xyz_campaign_id==916, 'ctr'])\n",
        "sd916 = np.sqrt(p916*(1-p916))\n",
        "obs916 = float(sumstats.loc[sumstats.xyz_campaign_id==916, 'Impressions'])\n",
        "\n",
        "p936 = float(sumstats.loc[sumstats.xyz_campaign_id==936, 'ctr'])\n",
        "sd936 = np.sqrt(p936*(1-p936))\n",
        "obs936 = float(sumstats.loc[sumstats.xyz_campaign_id==936, 'Impressions'])\n",
        "\n",
        "p1178 = float(sumstats.loc[sumstats.xyz_campaign_id==1178, 'ctr'])\n",
        "sd1178 = np.sqrt(p1178*(1-p1178))\n",
        "obs1178 = float(sumstats.loc[sumstats.xyz_campaign_id==1178, 'Impressions'])\n",
        "\n",
        "# run a 2 tail 2 sample t-test to compare the population CTRs for 936 and 916\n",
        "\n",
        "ttest_2sample(p936,sd936,obs936,p916,sd916,obs916)\n"
      ],
      "execution_count": null,
      "outputs": [
        {
          "output_type": "execute_result",
          "data": {
            "text/plain": [
              "0.6561623087350004"
            ]
          },
          "metadata": {},
          "execution_count": 14
        }
      ]
    },
    {
      "cell_type": "code",
      "metadata": {
        "id": "qvEZoE2iIagx",
        "colab": {
          "base_uri": "https://localhost:8080/"
        },
        "outputId": "57f12c12-40f6-4b5d-bee4-941c312a0e9b"
      },
      "source": [
        "# run a 2 tail 2 sample t-test to compare the population CTRs for 936 and 1178\n",
        "\n",
        "ttest_2sample(p1178,sd1178,obs1178,p936,sd936,obs936)"
      ],
      "execution_count": null,
      "outputs": [
        {
          "output_type": "execute_result",
          "data": {
            "text/plain": [
              "2.0046821640920726e-34"
            ]
          },
          "metadata": {},
          "execution_count": 15
        }
      ]
    },
    {
      "cell_type": "markdown",
      "metadata": {
        "id": "4_YVpVfB08wW"
      },
      "source": [
        "**Edit this cell to answer**\n",
        "\n",
        "The 916 ad campaign and the 936 ad campaign are not statistically different( p  val > .05). This makes sense because the 936 confidence interval is contained in the 916 confidence interval. The 936 ad campaign is statistically different(p val < .05) then the 1178 ad campaign, which means the 936 ad campaign is statistically better. Personally, I would reccomend allocating resources to the 936 campaign. It has a higher standard deviation then the 916 campaign but it also has a lot more data(936 has roughly 20x the amount of impressions) to support the accuracy of the click through rate. "
      ]
    },
    {
      "cell_type": "markdown",
      "metadata": {
        "id": "ypanZDwVAOu2"
      },
      "source": [
        "# 3. (20 points)\n",
        "\n",
        "Using the Starbucks dataset, conduct an appropriate statistical test to determine:\n",
        "1. Is there any statistically appreciable difference in the redemption rates of BOGO vs. Discount promotions?\n",
        "1. Among those who redeemed an offer and reported their income, is there any statistical difference in the average income associated with BOGO vs. discount redemptions? Note that not every observation reports income (select only the observations that do)."
      ]
    },
    {
      "cell_type": "code",
      "metadata": {
        "id": "2hSML7pKQafY"
      },
      "source": [
        "# read in the starbucks_promos.csv file as the dataframe variable named sb, use index_col = 0 option\n",
        "\n",
        "sb = pd.read_csv(fpath+ 'starbucks_promos.csv', index_col = 0)"
      ],
      "execution_count": null,
      "outputs": []
    },
    {
      "cell_type": "code",
      "metadata": {
        "id": "K3ZbG5blJPSz",
        "colab": {
          "base_uri": "https://localhost:8080/",
          "height": 206
        },
        "outputId": "bfac98a7-3f08-4c60-fd3c-3874399f7f1d"
      },
      "source": [
        "# preview first 5 rows to get a sense of the contents of the dataframe\n",
        "# note that each observation represents an offer received by a customer\n",
        "\n",
        "sb.head()"
      ],
      "execution_count": null,
      "outputs": [
        {
          "output_type": "execute_result",
          "data": {
            "text/plain": [
              "                                uid           event  time gender  age  \\\n",
              "1  0020c2b971eb4e9188eac86d93036a77  offer received     0      F   59   \n",
              "4  005500a7188546ff8a767329a2f7c76a  offer received     0      M   56   \n",
              "5  0056df74b63b4298809f0b375a304cf4  offer received     0      M   54   \n",
              "6  00715b6e55c3431cb56ff7307eb19675  offer received     0      F   58   \n",
              "8  00840a2ca5d2408e982d56544dc14ffd  offer received     0      M   26   \n",
              "\n",
              "   register_date    income                          offer_id  offer_reward  \\\n",
              "1       20160304   90000.0  fafdcd668e3743c1bb461111dcafc2a4           2.0   \n",
              "4       20171209   47000.0  ae264e3637204a6fb9bb56bc8210ddfd          10.0   \n",
              "5       20160821   91000.0  9b98b8c7a33c4b65b9aebfe6a799e6d9           5.0   \n",
              "6       20171207  119000.0  ae264e3637204a6fb9bb56bc8210ddfd          10.0   \n",
              "8       20141221   61000.0  2906b810c7d4411798c6938adc9daaa5           2.0   \n",
              "\n",
              "                               channels  difficulty  duration offer_type  \\\n",
              "1  ['web', 'email', 'mobile', 'social']        10.0     240.0   discount   \n",
              "4         ['email', 'mobile', 'social']        10.0     168.0       bogo   \n",
              "5            ['web', 'email', 'mobile']         5.0     168.0       bogo   \n",
              "6         ['email', 'mobile', 'social']        10.0     168.0       bogo   \n",
              "8            ['web', 'email', 'mobile']        10.0     168.0   discount   \n",
              "\n",
              "   offer_time  transaction_amount  redeem_time  redeemed  \n",
              "1         0.0               17.63         54.0         1  \n",
              "4         0.0                 NaN          NaN         0  \n",
              "5         0.0               27.86        132.0         1  \n",
              "6         0.0               27.26         12.0         1  \n",
              "8         0.0                6.05        540.0         1  "
            ],
            "text/html": [
              "\n",
              "  <div id=\"df-65a6fd45-fa13-4df1-bebe-26d9f87a369d\">\n",
              "    <div class=\"colab-df-container\">\n",
              "      <div>\n",
              "<style scoped>\n",
              "    .dataframe tbody tr th:only-of-type {\n",
              "        vertical-align: middle;\n",
              "    }\n",
              "\n",
              "    .dataframe tbody tr th {\n",
              "        vertical-align: top;\n",
              "    }\n",
              "\n",
              "    .dataframe thead th {\n",
              "        text-align: right;\n",
              "    }\n",
              "</style>\n",
              "<table border=\"1\" class=\"dataframe\">\n",
              "  <thead>\n",
              "    <tr style=\"text-align: right;\">\n",
              "      <th></th>\n",
              "      <th>uid</th>\n",
              "      <th>event</th>\n",
              "      <th>time</th>\n",
              "      <th>gender</th>\n",
              "      <th>age</th>\n",
              "      <th>register_date</th>\n",
              "      <th>income</th>\n",
              "      <th>offer_id</th>\n",
              "      <th>offer_reward</th>\n",
              "      <th>channels</th>\n",
              "      <th>difficulty</th>\n",
              "      <th>duration</th>\n",
              "      <th>offer_type</th>\n",
              "      <th>offer_time</th>\n",
              "      <th>transaction_amount</th>\n",
              "      <th>redeem_time</th>\n",
              "      <th>redeemed</th>\n",
              "    </tr>\n",
              "  </thead>\n",
              "  <tbody>\n",
              "    <tr>\n",
              "      <th>1</th>\n",
              "      <td>0020c2b971eb4e9188eac86d93036a77</td>\n",
              "      <td>offer received</td>\n",
              "      <td>0</td>\n",
              "      <td>F</td>\n",
              "      <td>59</td>\n",
              "      <td>20160304</td>\n",
              "      <td>90000.0</td>\n",
              "      <td>fafdcd668e3743c1bb461111dcafc2a4</td>\n",
              "      <td>2.0</td>\n",
              "      <td>['web', 'email', 'mobile', 'social']</td>\n",
              "      <td>10.0</td>\n",
              "      <td>240.0</td>\n",
              "      <td>discount</td>\n",
              "      <td>0.0</td>\n",
              "      <td>17.63</td>\n",
              "      <td>54.0</td>\n",
              "      <td>1</td>\n",
              "    </tr>\n",
              "    <tr>\n",
              "      <th>4</th>\n",
              "      <td>005500a7188546ff8a767329a2f7c76a</td>\n",
              "      <td>offer received</td>\n",
              "      <td>0</td>\n",
              "      <td>M</td>\n",
              "      <td>56</td>\n",
              "      <td>20171209</td>\n",
              "      <td>47000.0</td>\n",
              "      <td>ae264e3637204a6fb9bb56bc8210ddfd</td>\n",
              "      <td>10.0</td>\n",
              "      <td>['email', 'mobile', 'social']</td>\n",
              "      <td>10.0</td>\n",
              "      <td>168.0</td>\n",
              "      <td>bogo</td>\n",
              "      <td>0.0</td>\n",
              "      <td>NaN</td>\n",
              "      <td>NaN</td>\n",
              "      <td>0</td>\n",
              "    </tr>\n",
              "    <tr>\n",
              "      <th>5</th>\n",
              "      <td>0056df74b63b4298809f0b375a304cf4</td>\n",
              "      <td>offer received</td>\n",
              "      <td>0</td>\n",
              "      <td>M</td>\n",
              "      <td>54</td>\n",
              "      <td>20160821</td>\n",
              "      <td>91000.0</td>\n",
              "      <td>9b98b8c7a33c4b65b9aebfe6a799e6d9</td>\n",
              "      <td>5.0</td>\n",
              "      <td>['web', 'email', 'mobile']</td>\n",
              "      <td>5.0</td>\n",
              "      <td>168.0</td>\n",
              "      <td>bogo</td>\n",
              "      <td>0.0</td>\n",
              "      <td>27.86</td>\n",
              "      <td>132.0</td>\n",
              "      <td>1</td>\n",
              "    </tr>\n",
              "    <tr>\n",
              "      <th>6</th>\n",
              "      <td>00715b6e55c3431cb56ff7307eb19675</td>\n",
              "      <td>offer received</td>\n",
              "      <td>0</td>\n",
              "      <td>F</td>\n",
              "      <td>58</td>\n",
              "      <td>20171207</td>\n",
              "      <td>119000.0</td>\n",
              "      <td>ae264e3637204a6fb9bb56bc8210ddfd</td>\n",
              "      <td>10.0</td>\n",
              "      <td>['email', 'mobile', 'social']</td>\n",
              "      <td>10.0</td>\n",
              "      <td>168.0</td>\n",
              "      <td>bogo</td>\n",
              "      <td>0.0</td>\n",
              "      <td>27.26</td>\n",
              "      <td>12.0</td>\n",
              "      <td>1</td>\n",
              "    </tr>\n",
              "    <tr>\n",
              "      <th>8</th>\n",
              "      <td>00840a2ca5d2408e982d56544dc14ffd</td>\n",
              "      <td>offer received</td>\n",
              "      <td>0</td>\n",
              "      <td>M</td>\n",
              "      <td>26</td>\n",
              "      <td>20141221</td>\n",
              "      <td>61000.0</td>\n",
              "      <td>2906b810c7d4411798c6938adc9daaa5</td>\n",
              "      <td>2.0</td>\n",
              "      <td>['web', 'email', 'mobile']</td>\n",
              "      <td>10.0</td>\n",
              "      <td>168.0</td>\n",
              "      <td>discount</td>\n",
              "      <td>0.0</td>\n",
              "      <td>6.05</td>\n",
              "      <td>540.0</td>\n",
              "      <td>1</td>\n",
              "    </tr>\n",
              "  </tbody>\n",
              "</table>\n",
              "</div>\n",
              "      <button class=\"colab-df-convert\" onclick=\"convertToInteractive('df-65a6fd45-fa13-4df1-bebe-26d9f87a369d')\"\n",
              "              title=\"Convert this dataframe to an interactive table.\"\n",
              "              style=\"display:none;\">\n",
              "        \n",
              "  <svg xmlns=\"http://www.w3.org/2000/svg\" height=\"24px\"viewBox=\"0 0 24 24\"\n",
              "       width=\"24px\">\n",
              "    <path d=\"M0 0h24v24H0V0z\" fill=\"none\"/>\n",
              "    <path d=\"M18.56 5.44l.94 2.06.94-2.06 2.06-.94-2.06-.94-.94-2.06-.94 2.06-2.06.94zm-11 1L8.5 8.5l.94-2.06 2.06-.94-2.06-.94L8.5 2.5l-.94 2.06-2.06.94zm10 10l.94 2.06.94-2.06 2.06-.94-2.06-.94-.94-2.06-.94 2.06-2.06.94z\"/><path d=\"M17.41 7.96l-1.37-1.37c-.4-.4-.92-.59-1.43-.59-.52 0-1.04.2-1.43.59L10.3 9.45l-7.72 7.72c-.78.78-.78 2.05 0 2.83L4 21.41c.39.39.9.59 1.41.59.51 0 1.02-.2 1.41-.59l7.78-7.78 2.81-2.81c.8-.78.8-2.07 0-2.86zM5.41 20L4 18.59l7.72-7.72 1.47 1.35L5.41 20z\"/>\n",
              "  </svg>\n",
              "      </button>\n",
              "      \n",
              "  <style>\n",
              "    .colab-df-container {\n",
              "      display:flex;\n",
              "      flex-wrap:wrap;\n",
              "      gap: 12px;\n",
              "    }\n",
              "\n",
              "    .colab-df-convert {\n",
              "      background-color: #E8F0FE;\n",
              "      border: none;\n",
              "      border-radius: 50%;\n",
              "      cursor: pointer;\n",
              "      display: none;\n",
              "      fill: #1967D2;\n",
              "      height: 32px;\n",
              "      padding: 0 0 0 0;\n",
              "      width: 32px;\n",
              "    }\n",
              "\n",
              "    .colab-df-convert:hover {\n",
              "      background-color: #E2EBFA;\n",
              "      box-shadow: 0px 1px 2px rgba(60, 64, 67, 0.3), 0px 1px 3px 1px rgba(60, 64, 67, 0.15);\n",
              "      fill: #174EA6;\n",
              "    }\n",
              "\n",
              "    [theme=dark] .colab-df-convert {\n",
              "      background-color: #3B4455;\n",
              "      fill: #D2E3FC;\n",
              "    }\n",
              "\n",
              "    [theme=dark] .colab-df-convert:hover {\n",
              "      background-color: #434B5C;\n",
              "      box-shadow: 0px 1px 3px 1px rgba(0, 0, 0, 0.15);\n",
              "      filter: drop-shadow(0px 1px 2px rgba(0, 0, 0, 0.3));\n",
              "      fill: #FFFFFF;\n",
              "    }\n",
              "  </style>\n",
              "\n",
              "      <script>\n",
              "        const buttonEl =\n",
              "          document.querySelector('#df-65a6fd45-fa13-4df1-bebe-26d9f87a369d button.colab-df-convert');\n",
              "        buttonEl.style.display =\n",
              "          google.colab.kernel.accessAllowed ? 'block' : 'none';\n",
              "\n",
              "        async function convertToInteractive(key) {\n",
              "          const element = document.querySelector('#df-65a6fd45-fa13-4df1-bebe-26d9f87a369d');\n",
              "          const dataTable =\n",
              "            await google.colab.kernel.invokeFunction('convertToInteractive',\n",
              "                                                     [key], {});\n",
              "          if (!dataTable) return;\n",
              "\n",
              "          const docLinkHtml = 'Like what you see? Visit the ' +\n",
              "            '<a target=\"_blank\" href=https://colab.research.google.com/notebooks/data_table.ipynb>data table notebook</a>'\n",
              "            + ' to learn more about interactive tables.';\n",
              "          element.innerHTML = '';\n",
              "          dataTable['output_type'] = 'display_data';\n",
              "          await google.colab.output.renderOutput(dataTable, element);\n",
              "          const docLink = document.createElement('div');\n",
              "          docLink.innerHTML = docLinkHtml;\n",
              "          element.appendChild(docLink);\n",
              "        }\n",
              "      </script>\n",
              "    </div>\n",
              "  </div>\n",
              "  "
            ]
          },
          "metadata": {},
          "execution_count": 17
        }
      ]
    },
    {
      "cell_type": "code",
      "metadata": {
        "id": "iC8EEC4kJS6L"
      },
      "source": [
        "# select the redeemed column for discount offers types, name this data the variable disc\n",
        "# ( e.g. disc = sb.loc[sb.offer_type=='discount', 'redeemed'] )\n",
        "\n",
        "disc = sb.loc[sb.offer_type=='discount', 'redeemed'] \n"
      ],
      "execution_count": null,
      "outputs": []
    },
    {
      "cell_type": "code",
      "metadata": {
        "id": "pGo0BwRTKYRb"
      },
      "source": [
        "# select the redeemed column for buy one get one (bogo) offers, name this data the variable bogo\n",
        "\n",
        "bogo = sb.loc[sb.offer_type=='bogo', 'redeemed'] "
      ],
      "execution_count": null,
      "outputs": []
    },
    {
      "cell_type": "code",
      "metadata": {
        "id": "WpAY07u7Kbez",
        "colab": {
          "base_uri": "https://localhost:8080/"
        },
        "outputId": "be2ff3c8-5e36-4750-9714-47234b97b266"
      },
      "source": [
        "# use stats.ttest_ind to test whether the 2 types of offers yield different redemption rates\n",
        "\n",
        "stats.ttest_ind(disc, bogo)\n"
      ],
      "execution_count": null,
      "outputs": [
        {
          "output_type": "execute_result",
          "data": {
            "text/plain": [
              "Ttest_indResult(statistic=17.30160421286854, pvalue=6.611390792545181e-67)"
            ]
          },
          "metadata": {},
          "execution_count": 20
        }
      ]
    },
    {
      "cell_type": "code",
      "metadata": {
        "id": "vdcPjmahLwPn"
      },
      "source": [
        "# Select the income column for those who redeemed the BOGO offer, call this the variable bogo_income\n",
        "# note you need to use 3 condtitions for the row selection: one for redeemed, one for bogo offer, and one for income not missing\n",
        "# FYI: dataframe.somecolumn.notnull() is the Boolean evaluation for whether the somecolumn is not missing data\n",
        "\n",
        "bogo_income = sb.loc[((sb.offer_type == 'bogo') & (sb.redeemed == 1) & (sb.income.notnull())), 'income']"
      ],
      "execution_count": null,
      "outputs": []
    },
    {
      "cell_type": "code",
      "metadata": {
        "id": "9giiAZ1P6El-"
      },
      "source": [
        "# Select the income column for those who redeemed the discount offer, call this the variable disc_income\n",
        "# note you need to use 3 condtitions for the row selection: one for redeemed, one for discount offer,  and one for income not missing\n",
        "# FYI: dataframe.somecolumn.notnull() is the Boolean evaluation for whether the somecolumn is not missing data\n",
        "\n",
        "disc_income = sb.loc[((sb.offer_type == 'discount') & (sb.redeemed == 1) & (sb.income.notnull())), 'income']"
      ],
      "execution_count": null,
      "outputs": []
    },
    {
      "cell_type": "code",
      "metadata": {
        "id": "vt9kRYVh7J2N",
        "colab": {
          "base_uri": "https://localhost:8080/"
        },
        "outputId": "dd17f621-72c4-441b-b494-e07b48cf82aa"
      },
      "source": [
        "# What is the average income for bogo redeemers (bogo_income.mean())?\n",
        "bogo_income.mean()\n"
      ],
      "execution_count": null,
      "outputs": [
        {
          "output_type": "execute_result",
          "data": {
            "text/plain": [
              "70114.8559593297"
            ]
          },
          "metadata": {},
          "execution_count": 23
        }
      ]
    },
    {
      "cell_type": "code",
      "metadata": {
        "id": "GvoIFMFr7Ow1",
        "colab": {
          "base_uri": "https://localhost:8080/"
        },
        "outputId": "16f8ec7f-cfb0-4a45-f704-e135fe541c65"
      },
      "source": [
        "# What is the average income for discount redeemers?\n",
        "disc_income.mean()\n"
      ],
      "execution_count": null,
      "outputs": [
        {
          "output_type": "execute_result",
          "data": {
            "text/plain": [
              "68617.39130434782"
            ]
          },
          "metadata": {},
          "execution_count": 24
        }
      ]
    },
    {
      "cell_type": "code",
      "metadata": {
        "id": "zV-OOhTT6RY8",
        "colab": {
          "base_uri": "https://localhost:8080/"
        },
        "outputId": "5a3cff59-7283-4168-ecf2-12967d764404"
      },
      "source": [
        "# use stats.ttest_ind to test whether the average income of the redeemers of the 2 offer types are different\n",
        "stats.ttest_ind(bogo_income , disc_income)\n"
      ],
      "execution_count": null,
      "outputs": [
        {
          "output_type": "execute_result",
          "data": {
            "text/plain": [
              "Ttest_indResult(statistic=6.343377852366808, pvalue=2.2763463492984577e-10)"
            ]
          },
          "metadata": {},
          "execution_count": 25
        }
      ]
    },
    {
      "cell_type": "markdown",
      "metadata": {
        "id": "bhAXZ0kO6a5B"
      },
      "source": [
        "**Edit this cell**\n",
        "1. The p value for the t test was on the order of 10^(-67) so the two rates are statistically different.\n",
        "1. The p value for the t test was on the order of 10^(-10) so the average income of the people who redeem BOGO and the average income of the people who redeem DISCOUNT are statistically different. The BOGO redeemers statistically make more then the DICOUNT redeemers. "
      ]
    }
  ]
}
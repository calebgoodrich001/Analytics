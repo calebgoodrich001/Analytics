{
  "nbformat": 4,
  "nbformat_minor": 0,
  "metadata": {
    "colab": {
      "provenance": [],
      "collapsed_sections": []
    },
    "kernelspec": {
      "name": "python3",
      "display_name": "Python 3"
    }
  },
  "cells": [
    {
      "cell_type": "markdown",
      "source": [
        "### CALEB GOODRICH"
      ],
      "metadata": {
        "id": "Rj14HUF6ecGr"
      }
    },
    {
      "cell_type": "markdown",
      "metadata": {
        "id": "fQCckftPtiho"
      },
      "source": [
        "# Assignment 3 - Working with data\n",
        "\n",
        "**Rationale**. In this assignment, you will practice reading/writing common dataset formats, execute conditional subsetting of data, merge data, and perform groupby summaries. \n",
        "\n",
        "Please comment your code for potential partial credit and to explain to me that you understand what you are doing. As always, feel free to add additional cells.\n",
        "\n",
        "For any questions that requires a **text answer: make sure to type your answers in a text cell.**\n",
        "\n",
        "(Make sure you've ) Save(d) the [datasets](https://drive.google.com/drive/folders/1wpphG0kRidK8W9DT79spBufId8jWCUvC?usp=sharing) in this folder to your Google Drive.\n",
        "\n",
        "1. [Quebec Yelp Reviews](https://drive.google.com/file/d/1pmnps16-kI8VJaIizNXaOFyW0IZs_pZo/view?usp=sharing)\n",
        "1.  [Quebec Business Info](https://drive.google.com/file/d/1eT72WiYI7xXT7wiNfo2w1uhxVC0qIage/view?usp=sharing)\n"
      ]
    },
    {
      "cell_type": "code",
      "metadata": {
        "colab": {
          "base_uri": "https://localhost:8080/"
        },
        "id": "Zd9CMkZK_CzM",
        "outputId": "ccd63a4e-a388-4750-b9c3-9c3ca246479d"
      },
      "source": [
        "# first, mount your GDrive\n",
        "from google.colab import drive\n",
        "drive.mount('drive')"
      ],
      "execution_count": 6,
      "outputs": [
        {
          "output_type": "stream",
          "name": "stdout",
          "text": [
            "Mounted at drive\n"
          ]
        }
      ]
    },
    {
      "cell_type": "markdown",
      "metadata": {
        "id": "qzhQQ8p7ukHQ"
      },
      "source": [
        "# Problem 1 (2 points)\n",
        "\n",
        "Read in the Quebec Yelp dataset from your Google Drive. Make sure that there are no \"Unnamed\" columns - if so, you've read in the index_col as a regular column. Make sure that the index corresponds to the row of the dataset using the `.reset_index` method. Convert \"Date\" column to a Pandas datetime format.\n",
        "\n",
        "1. What is the observational unit of this dataset? (What does each row represent?)\n",
        "1. How many rows are in this dataset? columns?\n",
        "1. When was the earliest review written? latest?"
      ]
    },
    {
      "cell_type": "markdown",
      "metadata": {
        "id": "TC-OPIJ4bahe"
      },
      "source": [
        "## Problem 1 Answers (edit this cell)\n",
        "\n",
        "1. Each row represents one **persons review of a particular company.**.\n",
        "1. There are **208166** rows in the dataset\n",
        "    1. There are **9** columns in the dataset excluding the index.\n",
        "1. The first review is written on **2007-01-02 00:00:00**.\n",
        "    1. The last review is written on **2019-12-13 00:00:00**."
      ]
    },
    {
      "cell_type": "code",
      "metadata": {
        "id": "BQaBBKSe_eyv"
      },
      "source": [
        "# import any necessary libraries here\n",
        "from pandas.io.parsers.c_parser_wrapper import is_index_col\n",
        "import os\n",
        "import pandas as pd\n"
      ],
      "execution_count": 7,
      "outputs": []
    },
    {
      "cell_type": "code",
      "metadata": {
        "id": "9NL2eM9K_hSp",
        "colab": {
          "base_uri": "https://localhost:8080/"
        },
        "outputId": "34e24a22-64cf-4de7-da21-e3a0a304c4c6"
      },
      "source": [
        "# First, list the folder containing your data\n",
        "# fpath = 'path/to/your/data'\n",
        "# os.listdir(fpath) \n",
        "# this should return a list containing the quebec_biz \n",
        "# and quebec_yelp_reviews datasets\n",
        "fpath = 'drive/My Drive/Analytics/Datasets/quebec'\n",
        "os.listdir(fpath)\n"
      ],
      "execution_count": 8,
      "outputs": [
        {
          "output_type": "execute_result",
          "data": {
            "text/plain": [
              "['quebec_biz.csv', 'quebec_yelp_reviews.csv', 'subsetOfYelpReviews.csv']"
            ]
          },
          "metadata": {},
          "execution_count": 8
        }
      ]
    },
    {
      "cell_type": "code",
      "metadata": {
        "id": "6biVqdDRABiK"
      },
      "source": [
        "# read in the reviews data\n",
        "# pick a variable name for the reviews dataframe\n",
        "# and set its value by reading in the appropriate dataset\n",
        "# df = pd.read_csv(fpath + 'review_dataset_filename.csv', index_col = 0) || Caleb Note, should be fpath + '/review_dataset_filename.csv'\n",
        "# you can call the dataframe something other than df\n",
        "yelpReviews = pd.read_csv(fpath + '/quebec_yelp_reviews.csv', index_col = 0)\n"
      ],
      "execution_count": 9,
      "outputs": []
    },
    {
      "cell_type": "code",
      "metadata": {
        "id": "iAeNSzxJCdw0",
        "colab": {
          "base_uri": "https://localhost:8080/",
          "height": 206
        },
        "outputId": "cd7637e8-d7c1-4467-a2ac-96e18a6f8cb9"
      },
      "source": [
        "# preview the dataframe's first 5 rows using the .head() method\n",
        "# what unit of observation does each row represent?\n",
        "yelpReviews.head()\n",
        "\n"
      ],
      "execution_count": 10,
      "outputs": [
        {
          "output_type": "execute_result",
          "data": {
            "text/plain": [
              "                review_id                 user_id             business_id  \\\n",
              "0  sybVjriZuCEH09zplkcXAw  qkJtn0Rtz_lKlTs5azBkng  tOhRQqiupLyJdBJVQMGOEQ   \n",
              "1  uZ66BJLPMx6mJAY_6bi8vQ  kNL4SpfIdMC8GywGayDEOw  tOhRQqiupLyJdBJVQMGOEQ   \n",
              "2  uRPUL-YSYuaJZLQp3Z0QlA  dSeYpzf0JkCeARr_CyCh7A  tOhRQqiupLyJdBJVQMGOEQ   \n",
              "3  AGxEC3EtPW1vZH3v2DnPFA  ZhK2xIa4f73JZfua7IP8vA  tOhRQqiupLyJdBJVQMGOEQ   \n",
              "4  7rBHa16cZexmPopeVrGKBw  ClJirlfCI0W0CfpYaWdfEw  tOhRQqiupLyJdBJVQMGOEQ   \n",
              "\n",
              "   useful  funny  cool                                               text  \\\n",
              "0       0      0     0  AMAZING. Simply amazing. Believe all of the hy...   \n",
              "1       0      0     0  Montreal bagels were well worth the experience...   \n",
              "2       1      2     0  Montreal, what did you do in a previous life t...   \n",
              "3       0      0     1  St-Viateur is better, as bagels and as human b...   \n",
              "4       0      1     1  The bagels are good but first they had me writ...   \n",
              "\n",
              "         date  stars  \n",
              "0  2013-12-29      5  \n",
              "1  2016-07-14      4  \n",
              "2  2012-06-26      1  \n",
              "3  2016-02-24      3  \n",
              "4  2015-05-26      2  "
            ],
            "text/html": [
              "\n",
              "  <div id=\"df-86130e24-92b5-4d93-aeab-b8691faab5e3\">\n",
              "    <div class=\"colab-df-container\">\n",
              "      <div>\n",
              "<style scoped>\n",
              "    .dataframe tbody tr th:only-of-type {\n",
              "        vertical-align: middle;\n",
              "    }\n",
              "\n",
              "    .dataframe tbody tr th {\n",
              "        vertical-align: top;\n",
              "    }\n",
              "\n",
              "    .dataframe thead th {\n",
              "        text-align: right;\n",
              "    }\n",
              "</style>\n",
              "<table border=\"1\" class=\"dataframe\">\n",
              "  <thead>\n",
              "    <tr style=\"text-align: right;\">\n",
              "      <th></th>\n",
              "      <th>review_id</th>\n",
              "      <th>user_id</th>\n",
              "      <th>business_id</th>\n",
              "      <th>useful</th>\n",
              "      <th>funny</th>\n",
              "      <th>cool</th>\n",
              "      <th>text</th>\n",
              "      <th>date</th>\n",
              "      <th>stars</th>\n",
              "    </tr>\n",
              "  </thead>\n",
              "  <tbody>\n",
              "    <tr>\n",
              "      <th>0</th>\n",
              "      <td>sybVjriZuCEH09zplkcXAw</td>\n",
              "      <td>qkJtn0Rtz_lKlTs5azBkng</td>\n",
              "      <td>tOhRQqiupLyJdBJVQMGOEQ</td>\n",
              "      <td>0</td>\n",
              "      <td>0</td>\n",
              "      <td>0</td>\n",
              "      <td>AMAZING. Simply amazing. Believe all of the hy...</td>\n",
              "      <td>2013-12-29</td>\n",
              "      <td>5</td>\n",
              "    </tr>\n",
              "    <tr>\n",
              "      <th>1</th>\n",
              "      <td>uZ66BJLPMx6mJAY_6bi8vQ</td>\n",
              "      <td>kNL4SpfIdMC8GywGayDEOw</td>\n",
              "      <td>tOhRQqiupLyJdBJVQMGOEQ</td>\n",
              "      <td>0</td>\n",
              "      <td>0</td>\n",
              "      <td>0</td>\n",
              "      <td>Montreal bagels were well worth the experience...</td>\n",
              "      <td>2016-07-14</td>\n",
              "      <td>4</td>\n",
              "    </tr>\n",
              "    <tr>\n",
              "      <th>2</th>\n",
              "      <td>uRPUL-YSYuaJZLQp3Z0QlA</td>\n",
              "      <td>dSeYpzf0JkCeARr_CyCh7A</td>\n",
              "      <td>tOhRQqiupLyJdBJVQMGOEQ</td>\n",
              "      <td>1</td>\n",
              "      <td>2</td>\n",
              "      <td>0</td>\n",
              "      <td>Montreal, what did you do in a previous life t...</td>\n",
              "      <td>2012-06-26</td>\n",
              "      <td>1</td>\n",
              "    </tr>\n",
              "    <tr>\n",
              "      <th>3</th>\n",
              "      <td>AGxEC3EtPW1vZH3v2DnPFA</td>\n",
              "      <td>ZhK2xIa4f73JZfua7IP8vA</td>\n",
              "      <td>tOhRQqiupLyJdBJVQMGOEQ</td>\n",
              "      <td>0</td>\n",
              "      <td>0</td>\n",
              "      <td>1</td>\n",
              "      <td>St-Viateur is better, as bagels and as human b...</td>\n",
              "      <td>2016-02-24</td>\n",
              "      <td>3</td>\n",
              "    </tr>\n",
              "    <tr>\n",
              "      <th>4</th>\n",
              "      <td>7rBHa16cZexmPopeVrGKBw</td>\n",
              "      <td>ClJirlfCI0W0CfpYaWdfEw</td>\n",
              "      <td>tOhRQqiupLyJdBJVQMGOEQ</td>\n",
              "      <td>0</td>\n",
              "      <td>1</td>\n",
              "      <td>1</td>\n",
              "      <td>The bagels are good but first they had me writ...</td>\n",
              "      <td>2015-05-26</td>\n",
              "      <td>2</td>\n",
              "    </tr>\n",
              "  </tbody>\n",
              "</table>\n",
              "</div>\n",
              "      <button class=\"colab-df-convert\" onclick=\"convertToInteractive('df-86130e24-92b5-4d93-aeab-b8691faab5e3')\"\n",
              "              title=\"Convert this dataframe to an interactive table.\"\n",
              "              style=\"display:none;\">\n",
              "        \n",
              "  <svg xmlns=\"http://www.w3.org/2000/svg\" height=\"24px\"viewBox=\"0 0 24 24\"\n",
              "       width=\"24px\">\n",
              "    <path d=\"M0 0h24v24H0V0z\" fill=\"none\"/>\n",
              "    <path d=\"M18.56 5.44l.94 2.06.94-2.06 2.06-.94-2.06-.94-.94-2.06-.94 2.06-2.06.94zm-11 1L8.5 8.5l.94-2.06 2.06-.94-2.06-.94L8.5 2.5l-.94 2.06-2.06.94zm10 10l.94 2.06.94-2.06 2.06-.94-2.06-.94-.94-2.06-.94 2.06-2.06.94z\"/><path d=\"M17.41 7.96l-1.37-1.37c-.4-.4-.92-.59-1.43-.59-.52 0-1.04.2-1.43.59L10.3 9.45l-7.72 7.72c-.78.78-.78 2.05 0 2.83L4 21.41c.39.39.9.59 1.41.59.51 0 1.02-.2 1.41-.59l7.78-7.78 2.81-2.81c.8-.78.8-2.07 0-2.86zM5.41 20L4 18.59l7.72-7.72 1.47 1.35L5.41 20z\"/>\n",
              "  </svg>\n",
              "      </button>\n",
              "      \n",
              "  <style>\n",
              "    .colab-df-container {\n",
              "      display:flex;\n",
              "      flex-wrap:wrap;\n",
              "      gap: 12px;\n",
              "    }\n",
              "\n",
              "    .colab-df-convert {\n",
              "      background-color: #E8F0FE;\n",
              "      border: none;\n",
              "      border-radius: 50%;\n",
              "      cursor: pointer;\n",
              "      display: none;\n",
              "      fill: #1967D2;\n",
              "      height: 32px;\n",
              "      padding: 0 0 0 0;\n",
              "      width: 32px;\n",
              "    }\n",
              "\n",
              "    .colab-df-convert:hover {\n",
              "      background-color: #E2EBFA;\n",
              "      box-shadow: 0px 1px 2px rgba(60, 64, 67, 0.3), 0px 1px 3px 1px rgba(60, 64, 67, 0.15);\n",
              "      fill: #174EA6;\n",
              "    }\n",
              "\n",
              "    [theme=dark] .colab-df-convert {\n",
              "      background-color: #3B4455;\n",
              "      fill: #D2E3FC;\n",
              "    }\n",
              "\n",
              "    [theme=dark] .colab-df-convert:hover {\n",
              "      background-color: #434B5C;\n",
              "      box-shadow: 0px 1px 3px 1px rgba(0, 0, 0, 0.15);\n",
              "      filter: drop-shadow(0px 1px 2px rgba(0, 0, 0, 0.3));\n",
              "      fill: #FFFFFF;\n",
              "    }\n",
              "  </style>\n",
              "\n",
              "      <script>\n",
              "        const buttonEl =\n",
              "          document.querySelector('#df-86130e24-92b5-4d93-aeab-b8691faab5e3 button.colab-df-convert');\n",
              "        buttonEl.style.display =\n",
              "          google.colab.kernel.accessAllowed ? 'block' : 'none';\n",
              "\n",
              "        async function convertToInteractive(key) {\n",
              "          const element = document.querySelector('#df-86130e24-92b5-4d93-aeab-b8691faab5e3');\n",
              "          const dataTable =\n",
              "            await google.colab.kernel.invokeFunction('convertToInteractive',\n",
              "                                                     [key], {});\n",
              "          if (!dataTable) return;\n",
              "\n",
              "          const docLinkHtml = 'Like what you see? Visit the ' +\n",
              "            '<a target=\"_blank\" href=https://colab.research.google.com/notebooks/data_table.ipynb>data table notebook</a>'\n",
              "            + ' to learn more about interactive tables.';\n",
              "          element.innerHTML = '';\n",
              "          dataTable['output_type'] = 'display_data';\n",
              "          await google.colab.output.renderOutput(dataTable, element);\n",
              "          const docLink = document.createElement('div');\n",
              "          docLink.innerHTML = docLinkHtml;\n",
              "          element.appendChild(docLink);\n",
              "        }\n",
              "      </script>\n",
              "    </div>\n",
              "  </div>\n",
              "  "
            ]
          },
          "metadata": {},
          "execution_count": 10
        }
      ]
    },
    {
      "cell_type": "code",
      "metadata": {
        "id": "urLjFro_CJWB",
        "colab": {
          "base_uri": "https://localhost:8080/"
        },
        "outputId": "b86ab571-4a11-497f-f885-ff4d93926158"
      },
      "source": [
        "# compute the shape of the dataset to return (rows, columns)\n",
        "# use the .shape method\n",
        "yelpReviews.shape\n",
        "\n"
      ],
      "execution_count": 11,
      "outputs": [
        {
          "output_type": "execute_result",
          "data": {
            "text/plain": [
              "(208166, 9)"
            ]
          },
          "metadata": {},
          "execution_count": 11
        }
      ]
    },
    {
      "cell_type": "code",
      "metadata": {
        "id": "BDFGrOypB9zw",
        "colab": {
          "base_uri": "https://localhost:8080/"
        },
        "outputId": "311b546f-4183-43cc-fa73-a9b7cd6933cb"
      },
      "source": [
        "# take a look at the column names by accessing the dataframe's column attribute, \n",
        "# e.g. df.columns.values (but replace df with the name you picked)\n",
        "yelpReviews.columns.values\n",
        "\n"
      ],
      "execution_count": 12,
      "outputs": [
        {
          "output_type": "execute_result",
          "data": {
            "text/plain": [
              "array(['review_id', 'user_id', 'business_id', 'useful', 'funny', 'cool',\n",
              "       'text', 'date', 'stars'], dtype=object)"
            ]
          },
          "metadata": {},
          "execution_count": 12
        }
      ]
    },
    {
      "cell_type": "code",
      "metadata": {
        "id": "KfAtvXVtCHnk"
      },
      "source": [
        "# find the date column above, convert the column to pandas datetime series\n",
        "# using the pd.to_datetime(....) function\n",
        "yelpReviews['Date'] = pd.to_datetime(yelpReviews.date)"
      ],
      "execution_count": 13,
      "outputs": []
    },
    {
      "cell_type": "code",
      "metadata": {
        "id": "wGI0r7VvCpDB",
        "colab": {
          "base_uri": "https://localhost:8080/"
        },
        "outputId": "4eae72a0-a46d-405f-d51b-cf3c83662dfd"
      },
      "source": [
        "# find the smallest date (use the .min method)\n",
        "yelpReviews.Date.min()\n",
        "\n"
      ],
      "execution_count": 14,
      "outputs": [
        {
          "output_type": "execute_result",
          "data": {
            "text/plain": [
              "Timestamp('2007-01-02 00:00:00')"
            ]
          },
          "metadata": {},
          "execution_count": 14
        }
      ]
    },
    {
      "cell_type": "code",
      "metadata": {
        "id": "ANUiN-5WC7lK",
        "colab": {
          "base_uri": "https://localhost:8080/"
        },
        "outputId": "8a098b7a-ba8a-4c5e-fb79-f1f80f26f6bc"
      },
      "source": [
        "# find the largest date (use the .max method)\n",
        "yelpReviews.Date.max()\n",
        "\n",
        "\n"
      ],
      "execution_count": 15,
      "outputs": [
        {
          "output_type": "execute_result",
          "data": {
            "text/plain": [
              "Timestamp('2019-12-13 00:00:00')"
            ]
          },
          "metadata": {},
          "execution_count": 15
        }
      ]
    },
    {
      "cell_type": "markdown",
      "metadata": {
        "id": "Vm0lyRZHu5hl"
      },
      "source": [
        "# Problem 2 (2 points)\n",
        "\n",
        "Construct a **new** dataframe by selecting only the reviews written 1) on or after May 1st 2016 **and** 2) before June 1st 2019. **Save it** to an appropriate location on your Google Drive. (feel free to delete it later)"
      ]
    },
    {
      "cell_type": "code",
      "metadata": {
        "id": "1bx6Gw-sv6Ht"
      },
      "source": [
        "# pick a variable name and set it equal to the approriate subset of your dataframe\n",
        "# (you can use the same variable name as the original dataframe)\n",
        "# remember to select the dates with 2 conditions:\n",
        "# >= '2016/5/1'\n",
        "# < '2019/6/1'\n",
        "yelpReviews = yelpReviews[(yelpReviews['Date'] >= '2016/5/1') & (yelpReviews['Date'] < '2019/6/1')]\n"
      ],
      "execution_count": 16,
      "outputs": []
    },
    {
      "cell_type": "code",
      "metadata": {
        "id": "sr4ftepzF-zq",
        "colab": {
          "base_uri": "https://localhost:8080/"
        },
        "outputId": "113f7dee-0091-4ac3-d9c1-11188bd7ac84"
      },
      "source": [
        "# check the minimum and maximum dates of the resulting dataframe to confirm you've done this correctly\n",
        "# min date\n",
        "yelpReviews['Date'].min()\n",
        "\n",
        "\n"
      ],
      "execution_count": 17,
      "outputs": [
        {
          "output_type": "execute_result",
          "data": {
            "text/plain": [
              "Timestamp('2016-05-01 00:00:00')"
            ]
          },
          "metadata": {},
          "execution_count": 17
        }
      ]
    },
    {
      "cell_type": "code",
      "metadata": {
        "id": "JtT_0l7h2wpU",
        "colab": {
          "base_uri": "https://localhost:8080/"
        },
        "outputId": "525ef6a8-0304-4731-c50e-aae04410dd3f"
      },
      "source": [
        "# max date\n",
        "yelpReviews.Date.max()\n",
        "\n",
        "\n"
      ],
      "execution_count": 18,
      "outputs": [
        {
          "output_type": "execute_result",
          "data": {
            "text/plain": [
              "Timestamp('2019-05-31 00:00:00')"
            ]
          },
          "metadata": {},
          "execution_count": 18
        }
      ]
    },
    {
      "cell_type": "code",
      "metadata": {
        "id": "o9rJC3Uuv4Hz"
      },
      "source": [
        "# save the dataset somewhere, give it a meaningful file name\n",
        "subsetOfYelpReviews = yelpReviews\n",
        "subsetOfYelpReviews.to_csv('drive/My Drive/Analytics/Datasets/quebec/subsetOfYelpReviews.csv')"
      ],
      "execution_count": 19,
      "outputs": []
    },
    {
      "cell_type": "markdown",
      "metadata": {
        "id": "7hdqtvZG2WyH"
      },
      "source": [
        "# Problem 3 (3 points)\n",
        "\n",
        "**Use the dataset created in problem 2**\n",
        "\n",
        "Create a new column `ym` that represents the year and month (drops date and time from dates).\\\n",
        "*Hint use `.dt.to_period` method from [notes](https://colab.research.google.com/drive/1RKy2g2aWOitE2rCQdZli8ERKdrtqU6Cl?usp=sharing).\n",
        "\n",
        "Next, construct a line plot of the average usefulness votes (y-axis) by month between 2016/5 and 2019/5 `ym` (x-axis).\\\n",
        "*Hint - you need to do a groupby plot grouping on `ym` and compute the mean of star ratings.\n",
        "\n",
        "### Use a text cell to answer:\n",
        "1. What seasonal patterns do you see in the average helpfulness votes per review in Quebec? \n",
        "1. Come up with 2 potential explanations for the pattern(s) you've noticed."
      ]
    },
    {
      "cell_type": "markdown",
      "metadata": {
        "id": "4TSxTwNO9SLh"
      },
      "source": [
        "## Problem 3 Answer (edit this cell)\n",
        "1. In the months ~September - February the reviews spike and then drop significantly as you get closer to the middle of the year.\n",
        "1. (1st) Perhaps people are in the holiday spirit and all the workers are super nice and helpful but then after thats over the workers go back to how they normally are which isnt as nice and helpful as before. This could definitely lead to the spikes and troughs we see here. \\\n",
        "(2nd) These reviews are located in Quebec, Canada so I imagine in the winters people don't go out to local businesses as much. This could lead to the workers having to deal with less customers and then being in better moods when they do deal with customers. I know when I worked retail, the less people I had to deal with the better mood I was in. "
      ]
    },
    {
      "cell_type": "code",
      "metadata": {
        "id": "WSuD6uNH2SM-"
      },
      "source": [
        "# create 'ym' column\n",
        "subsetOfYelpReviews['ym'] = subsetOfYelpReviews.Date.dt.to_period('M')"
      ],
      "execution_count": 20,
      "outputs": []
    },
    {
      "cell_type": "code",
      "metadata": {
        "id": "NFJnyNscd2y4",
        "colab": {
          "base_uri": "https://localhost:8080/"
        },
        "outputId": "598e7ea5-f093-4a13-b9ba-279a9de893aa"
      },
      "source": [
        "# check that you've created it correctly by finding the unique values of ym\n",
        "# select the ym column and use the .unique() method\n",
        "subsetOfYelpReviews['ym'].unique()\n",
        "\n",
        "\n"
      ],
      "execution_count": 21,
      "outputs": [
        {
          "output_type": "execute_result",
          "data": {
            "text/plain": [
              "<PeriodArray>\n",
              "['2016-07', '2016-09', '2018-09', '2017-05', '2017-06', '2017-07', '2016-05',\n",
              " '2018-08', '2017-08', '2017-10', '2016-10', '2018-07', '2016-08', '2016-06',\n",
              " '2017-04', '2017-01', '2018-06', '2018-02', '2018-05', '2017-09', '2018-04',\n",
              " '2018-03', '2016-12', '2016-11', '2017-02', '2017-11', '2017-03', '2018-01',\n",
              " '2018-10', '2017-12', '2019-01', '2018-12', '2018-11', '2019-04', '2019-03',\n",
              " '2019-02', '2019-05']\n",
              "Length: 37, dtype: period[M]"
            ]
          },
          "metadata": {},
          "execution_count": 21
        }
      ]
    },
    {
      "cell_type": "code",
      "metadata": {
        "id": "Eh-DajsdG7Iq",
        "colab": {
          "base_uri": "https://localhost:8080/",
          "height": 308
        },
        "outputId": "36bcbc92-7df4-4581-bb60-cd79a1aff4cc"
      },
      "source": [
        "# create the plot using a groupby summary + .plot method\n",
        "# refer to notes for examples\n",
        "subsetOfYelpReviews.groupby(['ym'])['useful'].mean().plot()\n",
        "\n",
        "\n"
      ],
      "execution_count": 33,
      "outputs": [
        {
          "output_type": "execute_result",
          "data": {
            "text/plain": [
              "<matplotlib.axes._subplots.AxesSubplot at 0x7f0e39174bd0>"
            ]
          },
          "metadata": {},
          "execution_count": 33
        },
        {
          "output_type": "display_data",
          "data": {
            "text/plain": [
              "<Figure size 432x288 with 1 Axes>"
            ],
            "image/png": "[encoded data removed]"
          },
          "metadata": {
            "needs_background": "light"
          }
        }
      ]
    },
    {
      "cell_type": "markdown",
      "metadata": {
        "id": "OIrDmJDL2gfG"
      },
      "source": [
        "# Probelm 4 (4 points)\n",
        "\n",
        "Read in the Quebec **business info** dataset, be sure to use a different variable name for this dataframe.\n",
        "\n",
        "## Part A questions (2 pts)\n",
        "1. What is the observational unit of this dataset?\n",
        "1. On what variable should you merge this (right dataframe) **into** the review data (left dataframe)? \n",
        "\n",
        "**Merge business data into the dataframe from Q2.**\n",
        "\n",
        "Notice a column called \"is_open\" - if a business has shut down, this column will have a value of 0, otherwise it will have a value of 1.\n",
        "\n",
        "Construct the line plot where: \n",
        "* x-axis is `ym` \n",
        "* y-axis is average star rating \n",
        "* there are 2 lines: 1. for currently open businesses and 2. closed businesses \n",
        "    * Make sure the 2 lines appear on the same figure.\n",
        "    * You should compute avg. star rating using the `star` variable, not the `biz_star` variable.\n",
        "\n",
        "## Part B questions (2 pts)\n",
        "1. Any difference in patterns between these 2 groups of businesses?\n",
        "1. Speculate on what reason(s) might cause the observed pattern(s).\n",
        "\n"
      ]
    },
    {
      "cell_type": "markdown",
      "metadata": {
        "id": "X3OAH7PsW91-"
      },
      "source": [
        "## Problem 4 Answers (Edit this cell)\n",
        "\n",
        "### Part A\n",
        "\n",
        "1. Each row represents one **business. It has the name, the location, what they sell and some more stuff.**\n",
        "1. We should merge on **the business ID.**\n",
        "\n",
        "### Part B\n",
        "\n",
        "1. For almost all of the graph the open businesses are 0.1-0.2 stars ahead of the closed businesses. This is true until January 2019 where the closed businesses had a large spike upwards.\n",
        "1. 2 possible reasons are:\n",
        "    1. Businesses that have had to shut down were probably not doing that well, which would reflect on peoples ratings of them. For example a restaurant that has terrible food will have terrible reviews and then people will eventually stop going to it and it will shut down. Whereas businesses that are open have to be doing relatively well which would reflect on their reviews. \n",
        "    1. The closed businesses have much less consistent reviews. They have way bigger dips in review stars then the open businesses. This could suggest that the business itself is very inconsistent leading people to have bad experiences with them which could lead to the business closing down.   "
      ]
    },
    {
      "cell_type": "code",
      "metadata": {
        "id": "2hfMBmjaB574"
      },
      "source": [
        "# read in the business info file, call the dataframe biz, e.g. biz = pd.read_csv(...)\n",
        "biz = pd.read_csv('drive/My Drive/Analytics/Datasets/quebec/quebec_biz.csv')\n",
        "\n"
      ],
      "execution_count": 23,
      "outputs": []
    },
    {
      "cell_type": "code",
      "metadata": {
        "id": "_64Zf-KitgLl",
        "colab": {
          "base_uri": "https://localhost:8080/",
          "height": 361
        },
        "outputId": "e5ec3518-a792-4fb6-b453-8d8ec3e9d842"
      },
      "source": [
        "# Take a look at the first few rows to determine the observational unit\n",
        "biz.head(3)\n"
      ],
      "execution_count": 30,
      "outputs": [
        {
          "output_type": "execute_result",
          "data": {
            "text/plain": [
              "   Unnamed: 0             business_id       name                   address  \\\n",
              "0           2  XNoUzKckATkOD1hP6vghZg    Felinus     3554 Rue Notre-Dame O   \n",
              "1          31  pcaQDBM6r0PWTXfYZK6RdA  IGA Extra  8130 Boulevard Champlain   \n",
              "2          43  LoRef3ChgZKbxUio-sHgQg       Amir     5252 Rue Jean Talon O   \n",
              "\n",
              "       city state postal_code   latitude  longitude  biz_stars  review_count  \\\n",
              "0  Montreal    QC     H4C 1P4  45.479984 -73.580070        5.0             5   \n",
              "1   Lasalle    QC     H8P 1B4  45.425645 -73.611934        3.0             6   \n",
              "2  Montréal    QC     H4P 2A7  45.494870 -73.651904        3.0            18   \n",
              "\n",
              "   is_open                                         attributes  \\\n",
              "0        1                                                NaN   \n",
              "1        1  {'BusinessParking': \"{'garage': False, 'street...   \n",
              "2        1  {'RestaurantsAttire': \"u'casual'\", 'Restaurant...   \n",
              "\n",
              "                              categories  \\\n",
              "0       Pets, Pet Services, Pet Groomers   \n",
              "1                          Food, Grocery   \n",
              "2  Restaurants, Lebanese, Middle Eastern   \n",
              "\n",
              "                                               hours  \n",
              "0                                                NaN  \n",
              "1  {'Monday': '8:0-22:0', 'Tuesday': '8:0-22:0', ...  \n",
              "2                                                NaN  "
            ],
            "text/html": [
              "\n",
              "  <div id=\"df-8a457fa9-5b50-4e4b-afd3-889275bd44bb\">\n",
              "    <div class=\"colab-df-container\">\n",
              "      <div>\n",
              "<style scoped>\n",
              "    .dataframe tbody tr th:only-of-type {\n",
              "        vertical-align: middle;\n",
              "    }\n",
              "\n",
              "    .dataframe tbody tr th {\n",
              "        vertical-align: top;\n",
              "    }\n",
              "\n",
              "    .dataframe thead th {\n",
              "        text-align: right;\n",
              "    }\n",
              "</style>\n",
              "<table border=\"1\" class=\"dataframe\">\n",
              "  <thead>\n",
              "    <tr style=\"text-align: right;\">\n",
              "      <th></th>\n",
              "      <th>Unnamed: 0</th>\n",
              "      <th>business_id</th>\n",
              "      <th>name</th>\n",
              "      <th>address</th>\n",
              "      <th>city</th>\n",
              "      <th>state</th>\n",
              "      <th>postal_code</th>\n",
              "      <th>latitude</th>\n",
              "      <th>longitude</th>\n",
              "      <th>biz_stars</th>\n",
              "      <th>review_count</th>\n",
              "      <th>is_open</th>\n",
              "      <th>attributes</th>\n",
              "      <th>categories</th>\n",
              "      <th>hours</th>\n",
              "    </tr>\n",
              "  </thead>\n",
              "  <tbody>\n",
              "    <tr>\n",
              "      <th>0</th>\n",
              "      <td>2</td>\n",
              "      <td>XNoUzKckATkOD1hP6vghZg</td>\n",
              "      <td>Felinus</td>\n",
              "      <td>3554 Rue Notre-Dame O</td>\n",
              "      <td>Montreal</td>\n",
              "      <td>QC</td>\n",
              "      <td>H4C 1P4</td>\n",
              "      <td>45.479984</td>\n",
              "      <td>-73.580070</td>\n",
              "      <td>5.0</td>\n",
              "      <td>5</td>\n",
              "      <td>1</td>\n",
              "      <td>NaN</td>\n",
              "      <td>Pets, Pet Services, Pet Groomers</td>\n",
              "      <td>NaN</td>\n",
              "    </tr>\n",
              "    <tr>\n",
              "      <th>1</th>\n",
              "      <td>31</td>\n",
              "      <td>pcaQDBM6r0PWTXfYZK6RdA</td>\n",
              "      <td>IGA Extra</td>\n",
              "      <td>8130 Boulevard Champlain</td>\n",
              "      <td>Lasalle</td>\n",
              "      <td>QC</td>\n",
              "      <td>H8P 1B4</td>\n",
              "      <td>45.425645</td>\n",
              "      <td>-73.611934</td>\n",
              "      <td>3.0</td>\n",
              "      <td>6</td>\n",
              "      <td>1</td>\n",
              "      <td>{'BusinessParking': \"{'garage': False, 'street...</td>\n",
              "      <td>Food, Grocery</td>\n",
              "      <td>{'Monday': '8:0-22:0', 'Tuesday': '8:0-22:0', ...</td>\n",
              "    </tr>\n",
              "    <tr>\n",
              "      <th>2</th>\n",
              "      <td>43</td>\n",
              "      <td>LoRef3ChgZKbxUio-sHgQg</td>\n",
              "      <td>Amir</td>\n",
              "      <td>5252 Rue Jean Talon O</td>\n",
              "      <td>Montréal</td>\n",
              "      <td>QC</td>\n",
              "      <td>H4P 2A7</td>\n",
              "      <td>45.494870</td>\n",
              "      <td>-73.651904</td>\n",
              "      <td>3.0</td>\n",
              "      <td>18</td>\n",
              "      <td>1</td>\n",
              "      <td>{'RestaurantsAttire': \"u'casual'\", 'Restaurant...</td>\n",
              "      <td>Restaurants, Lebanese, Middle Eastern</td>\n",
              "      <td>NaN</td>\n",
              "    </tr>\n",
              "  </tbody>\n",
              "</table>\n",
              "</div>\n",
              "      <button class=\"colab-df-convert\" onclick=\"convertToInteractive('df-8a457fa9-5b50-4e4b-afd3-889275bd44bb')\"\n",
              "              title=\"Convert this dataframe to an interactive table.\"\n",
              "              style=\"display:none;\">\n",
              "        \n",
              "  <svg xmlns=\"http://www.w3.org/2000/svg\" height=\"24px\"viewBox=\"0 0 24 24\"\n",
              "       width=\"24px\">\n",
              "    <path d=\"M0 0h24v24H0V0z\" fill=\"none\"/>\n",
              "    <path d=\"M18.56 5.44l.94 2.06.94-2.06 2.06-.94-2.06-.94-.94-2.06-.94 2.06-2.06.94zm-11 1L8.5 8.5l.94-2.06 2.06-.94-2.06-.94L8.5 2.5l-.94 2.06-2.06.94zm10 10l.94 2.06.94-2.06 2.06-.94-2.06-.94-.94-2.06-.94 2.06-2.06.94z\"/><path d=\"M17.41 7.96l-1.37-1.37c-.4-.4-.92-.59-1.43-.59-.52 0-1.04.2-1.43.59L10.3 9.45l-7.72 7.72c-.78.78-.78 2.05 0 2.83L4 21.41c.39.39.9.59 1.41.59.51 0 1.02-.2 1.41-.59l7.78-7.78 2.81-2.81c.8-.78.8-2.07 0-2.86zM5.41 20L4 18.59l7.72-7.72 1.47 1.35L5.41 20z\"/>\n",
              "  </svg>\n",
              "      </button>\n",
              "      \n",
              "  <style>\n",
              "    .colab-df-container {\n",
              "      display:flex;\n",
              "      flex-wrap:wrap;\n",
              "      gap: 12px;\n",
              "    }\n",
              "\n",
              "    .colab-df-convert {\n",
              "      background-color: #E8F0FE;\n",
              "      border: none;\n",
              "      border-radius: 50%;\n",
              "      cursor: pointer;\n",
              "      display: none;\n",
              "      fill: #1967D2;\n",
              "      height: 32px;\n",
              "      padding: 0 0 0 0;\n",
              "      width: 32px;\n",
              "    }\n",
              "\n",
              "    .colab-df-convert:hover {\n",
              "      background-color: #E2EBFA;\n",
              "      box-shadow: 0px 1px 2px rgba(60, 64, 67, 0.3), 0px 1px 3px 1px rgba(60, 64, 67, 0.15);\n",
              "      fill: #174EA6;\n",
              "    }\n",
              "\n",
              "    [theme=dark] .colab-df-convert {\n",
              "      background-color: #3B4455;\n",
              "      fill: #D2E3FC;\n",
              "    }\n",
              "\n",
              "    [theme=dark] .colab-df-convert:hover {\n",
              "      background-color: #434B5C;\n",
              "      box-shadow: 0px 1px 3px 1px rgba(0, 0, 0, 0.15);\n",
              "      filter: drop-shadow(0px 1px 2px rgba(0, 0, 0, 0.3));\n",
              "      fill: #FFFFFF;\n",
              "    }\n",
              "  </style>\n",
              "\n",
              "      <script>\n",
              "        const buttonEl =\n",
              "          document.querySelector('#df-8a457fa9-5b50-4e4b-afd3-889275bd44bb button.colab-df-convert');\n",
              "        buttonEl.style.display =\n",
              "          google.colab.kernel.accessAllowed ? 'block' : 'none';\n",
              "\n",
              "        async function convertToInteractive(key) {\n",
              "          const element = document.querySelector('#df-8a457fa9-5b50-4e4b-afd3-889275bd44bb');\n",
              "          const dataTable =\n",
              "            await google.colab.kernel.invokeFunction('convertToInteractive',\n",
              "                                                     [key], {});\n",
              "          if (!dataTable) return;\n",
              "\n",
              "          const docLinkHtml = 'Like what you see? Visit the ' +\n",
              "            '<a target=\"_blank\" href=https://colab.research.google.com/notebooks/data_table.ipynb>data table notebook</a>'\n",
              "            + ' to learn more about interactive tables.';\n",
              "          element.innerHTML = '';\n",
              "          dataTable['output_type'] = 'display_data';\n",
              "          await google.colab.output.renderOutput(dataTable, element);\n",
              "          const docLink = document.createElement('div');\n",
              "          docLink.innerHTML = docLinkHtml;\n",
              "          element.appendChild(docLink);\n",
              "        }\n",
              "      </script>\n",
              "    </div>\n",
              "  </div>\n",
              "  "
            ]
          },
          "metadata": {},
          "execution_count": 30
        }
      ]
    },
    {
      "cell_type": "code",
      "metadata": {
        "id": "hlLltBeJtlrH"
      },
      "source": [
        "# merge the 2 datasets\n",
        "merged = biz.merge(yelpReviews,how = 'left', on = 'business_id')\n",
        "\n"
      ],
      "execution_count": 25,
      "outputs": []
    },
    {
      "cell_type": "code",
      "metadata": {
        "id": "inLgrx3ztxEJ",
        "colab": {
          "base_uri": "https://localhost:8080/"
        },
        "outputId": "40a4c446-415e-47b5-d281-bed5346f0d5f"
      },
      "source": [
        "# take a look at the columns of the resulting dataframe\n",
        "# make sure it has all the columns from both the review and business datasets\n",
        "merged.columns\n",
        "\n"
      ],
      "execution_count": 28,
      "outputs": [
        {
          "output_type": "execute_result",
          "data": {
            "text/plain": [
              "Index(['Unnamed: 0', 'business_id', 'name', 'address', 'city', 'state',\n",
              "       'postal_code', 'latitude', 'longitude', 'biz_stars', 'review_count',\n",
              "       'is_open', 'attributes', 'categories', 'hours', 'review_id', 'user_id',\n",
              "       'useful', 'funny', 'cool', 'text', 'date', 'stars', 'Date', 'ym'],\n",
              "      dtype='object')"
            ]
          },
          "metadata": {},
          "execution_count": 28
        }
      ]
    },
    {
      "cell_type": "code",
      "metadata": {
        "id": "VTYtASMiuO1Q",
        "colab": {
          "base_uri": "https://localhost:8080/",
          "height": 311
        },
        "outputId": "989a7dcb-68d8-4024-87bc-0d06dfd53cbe"
      },
      "source": [
        "# make your plot, use groupby summary and unstack syntax \n",
        "# to construct plot, see examples from notes\n",
        "\n",
        "merged.groupby(['ym','is_open'])['stars'].mean().unstack('is_open').plot()\n",
        "\n"
      ],
      "execution_count": 29,
      "outputs": [
        {
          "output_type": "execute_result",
          "data": {
            "text/plain": [
              "<matplotlib.axes._subplots.AxesSubplot at 0x7f0e3a06c2d0>"
            ]
          },
          "metadata": {},
          "execution_count": 29
        },
        {
          "output_type": "display_data",
          "data": {
            "text/plain": [
              "<Figure size 432x288 with 1 Axes>"
            ],
            "image/png": "[encoded data removed]"
          },
          "metadata": {
            "needs_background": "light"
          }
        }
      ]
    }
  ]
}
{
  "nbformat": 4,
  "nbformat_minor": 0,
  "metadata": {
    "colab": {
      "provenance": []
    },
    "kernelspec": {
      "name": "python3",
      "display_name": "Python 3"
    },
    "language_info": {
      "name": "python"
    }
  },
  "cells": [
    {
      "cell_type": "code",
      "execution_count": null,
      "metadata": {
        "id": "79lSx5JO-mQf"
      },
      "outputs": [],
      "source": []
    },
    {
      "cell_type": "markdown",
      "source": [
        "#<center> Résumé of Caleb Goodrich </center>\n",
        "\n",
        "\n",
        "##<Center> Contact\n",
        "Email: [calebgoodrich001@icloud.com](mailto:calebgoodrich001@icloud.com)\n",
        "Website: [calebgoodrich.com](https://indeedhi.re/3eBSF9I)\n",
        "\n",
        "\n",
        "## Summary\n",
        "I graduated High School from Skyridge High, am currently a SUU Senior studying Applied Mathematics with a minor in Computer Science. I hope to do Data Analysis type work. \n",
        "\n",
        "\n",
        "## Education\n",
        "\n",
        "High School Diploma from Skyridge High School\n",
        "Senior at SUU studying Applied Mathematics\n",
        "\n",
        "\n",
        "\n",
        "---\n",
        "\n",
        "\n",
        "## Work Experience\n",
        "\n",
        "**Tutor**   2020–Current\\\n",
        "*Southern Utah University, <https://www.suu.edu/academicsuccess/tutoring>*\n",
        "\n",
        "I have been a Tutor at SUU for nearly 2 years now.\n",
        "\n",
        "-   I have a number of Math, Physics, and Computer Science courses I tutor.\n",
        "-   I have been a Tutor Mentor since the start of Fall 2022. \n",
        "\n",
        "---\n",
        "\n",
        "---\n",
        "\n",
        "\n",
        "## Skills\n",
        "\n",
        "**Math**   Calculus, Advanced Calculus, Linear Algebra\n",
        "**Computing**   Python, SQL, Java, C, C++ \n",
        "\n",
        "---\n",
        "\n",
        "## Professional Interests\n",
        "\n",
        "Cloud Computing, Data Analysis, Programming\n"
      ],
      "metadata": {
        "id": "qAdQNUhJ-2ep"
      }
    }
  ]
}